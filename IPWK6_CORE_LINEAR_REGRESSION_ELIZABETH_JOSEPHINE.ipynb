{
  "nbformat": 4,
  "nbformat_minor": 0,
  "metadata": {
    "colab": {
      "name": "IPWK6_CORE_LINEAR_REGRESSION_ELIZABETH_JOSEPHINE",
      "provenance": [],
      "collapsed_sections": [
        "bFZSnWA70exo",
        "WEw9SgXM2eke",
        "Aie_Oar22uro",
        "XTM05rkPG3oE"
      ],
      "authorship_tag": "ABX9TyOxIHlI0AkWJpFGEiyOVHoQ",
      "include_colab_link": true
    },
    "kernelspec": {
      "name": "python3",
      "display_name": "Python 3"
    }
  },
  "cells": [
    {
      "cell_type": "markdown",
      "metadata": {
        "id": "view-in-github",
        "colab_type": "text"
      },
      "source": [
        "<a href=\"https://colab.research.google.com/github/alfafimel/IPWK6-CORE/blob/master/IPWK6_CORE_LINEAR_REGRESSION_ELIZABETH_JOSEPHINE.ipynb\" target=\"_parent\"><img src=\"https://colab.research.google.com/assets/colab-badge.svg\" alt=\"Open In Colab\"/></a>"
      ]
    },
    {
      "cell_type": "markdown",
      "metadata": {
        "id": "bFZSnWA70exo",
        "colab_type": "text"
      },
      "source": [
        "# Defining the question"
      ]
    },
    {
      "cell_type": "markdown",
      "metadata": {
        "id": "fZ-3i_jSO4-Q",
        "colab_type": "text"
      },
      "source": [
        "## **a) Specifying the Question**\n",
        "\n",
        "\n",
        "\n",
        "> You have been recruited as a football analyst in a company - Mchezopesa Ltd and tasked to accomplish the task below.A prediction result of a game between team 1  and team 2, based on who's home and who's away, and on whether or not the game is friendly (include rank in your training). \n",
        "You have two possible approaches (polynomial and logistic approaches) given the datasets that will be provided"
      ]
    },
    {
      "cell_type": "markdown",
      "metadata": {
        "id": "WXZCQjSYPxoe",
        "colab_type": "text"
      },
      "source": [
        "## **b) Defining the metrics for success**\n",
        "\n",
        "\n",
        "\n",
        "> The objective for this data includes investigating whether or ot the game is friendly  while making the opredictions\n",
        "\n"
      ]
    },
    {
      "cell_type": "markdown",
      "metadata": {
        "id": "54dC2uO7QtkQ",
        "colab_type": "text"
      },
      "source": [
        "## **c) Understanding the context**\n",
        "\n",
        "\n",
        "> You have been recruited as a football analyst in a company - Mchezopesa Ltd and tasked to accomplish the task below. ---- Predict the result of a game between team 1 and team 2, based on who's home and who's away, and on whether or not the game is friendly (include rank in your training).\n",
        "\n"
      ]
    },
    {
      "cell_type": "markdown",
      "metadata": {
        "id": "qcxt7GgKTKik",
        "colab_type": "text"
      },
      "source": [
        "## **d) Recording the Experimental Design**\n",
        "\n",
        "1. reading in the datasets\n",
        "2. checking the data for duplicates and missinng data\n",
        "3. dropping of duplicates and removal filling in of missing data values with zero\n",
        "4. Finding  and dealing with outliers, anomalies, and missing data within the dataset.\n",
        "5. Performing of EDA recording of observations.\n",
        "6. Implementing the solution by performing the respective analysis i.e. factor analysis, principal component analysis, and discriminant analysis.\n",
        "8. Perform any necessary feature engineering \n",
        "\n",
        "9. Check of multicollinearity\n",
        "\n",
        "10. Start building the model, Cross-validate the model\n",
        "\n",
        "11. Compute RMSE\n",
        "\n",
        "12. Create residual plots for your models, and assess their heteroscedasticity using Bartlett’s test\n",
        "\n",
        "13. Perform appropriate regressions on the data including your justification\n",
        "\n",
        "14. Challenge your solution by providing insights on how you can make improvements."
      ]
    },
    {
      "cell_type": "markdown",
      "metadata": {
        "id": "KrV3jgz3T5ek",
        "colab_type": "text"
      },
      "source": [
        "## **e) Relevance of the data**\n",
        "\n",
        "\n",
        "\n",
        "> The data that was used for survey was obtained from an open datasource. this data is an aggregation by day of the number of goals scored and rankings of countries in the men's FIFA team. with it is a model that determines which team gets to be ranked where and how according to the years and goals.\n"
      ]
    },
    {
      "cell_type": "markdown",
      "metadata": {
        "id": "P5AZs2SFkze5",
        "colab_type": "text"
      },
      "source": [
        "# **Checking the data**"
      ]
    },
    {
      "cell_type": "code",
      "metadata": {
        "id": "nMytN0aAXsOD",
        "colab_type": "code",
        "colab": {}
      },
      "source": [
        "# importing libraries\n",
        "import pandas as pd\n",
        "import numpy as np\n",
        "import seaborn as sns\n",
        "import matplotlib\n",
        "from matplotlib import pyplot as plt\n",
        "%matplotlib inline\n",
        "##"
      ],
      "execution_count": 339,
      "outputs": []
    },
    {
      "cell_type": "code",
      "metadata": {
        "id": "QsYJ4G5BaWpA",
        "colab_type": "code",
        "colab": {}
      },
      "source": [
        "# reading datasets\n",
        "\n",
        "data = pd.read_csv('fifa_ranking.csv')\n",
        "data1 = pd.read_csv('results.csv')"
      ],
      "execution_count": 340,
      "outputs": []
    },
    {
      "cell_type": "code",
      "metadata": {
        "id": "POxsiNv0ps9y",
        "colab_type": "code",
        "colab": {}
      },
      "source": [
        "data.rename(columns= {'country_full':'country'}, inplace = True)"
      ],
      "execution_count": 341,
      "outputs": []
    },
    {
      "cell_type": "code",
      "metadata": {
        "id": "NZe9sAo6zGdZ",
        "colab_type": "code",
        "colab": {}
      },
      "source": [
        "# droppig unnecessary columns\n",
        "to_drop = ['country_abrv', 'rank_date']\n",
        "data.drop(to_drop, axis=1, inplace=True)"
      ],
      "execution_count": 342,
      "outputs": []
    },
    {
      "cell_type": "code",
      "metadata": {
        "id": "bqM-Go6H0EOC",
        "colab_type": "code",
        "colab": {
          "base_uri": "https://localhost:8080/",
          "height": 102
        },
        "outputId": "d0991a58-f885-4f12-e88d-7f28b91f4e08"
      },
      "source": [
        "data.columns"
      ],
      "execution_count": 343,
      "outputs": [
        {
          "output_type": "execute_result",
          "data": {
            "text/plain": [
              "Index(['rank', 'country', 'total_points', 'previous_points', 'rank_change',\n",
              "       'cur_year_avg', 'cur_year_avg_weighted', 'last_year_avg',\n",
              "       'last_year_avg_weighted', 'two_year_ago_avg', 'two_year_ago_weighted',\n",
              "       'three_year_ago_avg', 'three_year_ago_weighted', 'confederation'],\n",
              "      dtype='object')"
            ]
          },
          "metadata": {
            "tags": []
          },
          "execution_count": 343
        }
      ]
    },
    {
      "cell_type": "code",
      "metadata": {
        "id": "JLb_aP7DzRCp",
        "colab_type": "code",
        "colab": {
          "base_uri": "https://localhost:8080/",
          "height": 0
        },
        "outputId": "8dd0a5a2-20fb-4cd0-a5aa-aee60e1e71ec"
      },
      "source": [
        "data.shape"
      ],
      "execution_count": 344,
      "outputs": [
        {
          "output_type": "execute_result",
          "data": {
            "text/plain": [
              "(57793, 14)"
            ]
          },
          "metadata": {
            "tags": []
          },
          "execution_count": 344
        }
      ]
    },
    {
      "cell_type": "code",
      "metadata": {
        "id": "0zOqrIETzi98",
        "colab_type": "code",
        "colab": {
          "base_uri": "https://localhost:8080/",
          "height": 0
        },
        "outputId": "e4a3f300-fbeb-4dc8-909c-9a49365c50f6"
      },
      "source": [
        "# checking for duplicates\n",
        "data.duplicated().any()"
      ],
      "execution_count": 345,
      "outputs": [
        {
          "output_type": "execute_result",
          "data": {
            "text/plain": [
              "True"
            ]
          },
          "metadata": {
            "tags": []
          },
          "execution_count": 345
        }
      ]
    },
    {
      "cell_type": "code",
      "metadata": {
        "id": "lpc7qu3c0YBL",
        "colab_type": "code",
        "colab": {}
      },
      "source": [
        "# drop all duplicates\n",
        "data.drop_duplicates(inplace=True)"
      ],
      "execution_count": 346,
      "outputs": []
    },
    {
      "cell_type": "code",
      "metadata": {
        "id": "IOe2ofdS0mRw",
        "colab_type": "code",
        "colab": {
          "base_uri": "https://localhost:8080/",
          "height": 0
        },
        "outputId": "b2fa8cf4-7399-4712-c864-3582b54eeb4f"
      },
      "source": [
        "data.duplicated().sum()"
      ],
      "execution_count": 347,
      "outputs": [
        {
          "output_type": "execute_result",
          "data": {
            "text/plain": [
              "0"
            ]
          },
          "metadata": {
            "tags": []
          },
          "execution_count": 347
        }
      ]
    },
    {
      "cell_type": "code",
      "metadata": {
        "id": "p4ZyNZtT0VNO",
        "colab_type": "code",
        "colab": {
          "base_uri": "https://localhost:8080/",
          "height": 0
        },
        "outputId": "3fe631fc-fda8-485d-8ebf-52c174556ec1"
      },
      "source": [
        "# checking for null values\n",
        "data.isnull().any()"
      ],
      "execution_count": 348,
      "outputs": [
        {
          "output_type": "execute_result",
          "data": {
            "text/plain": [
              "rank                       False\n",
              "country                    False\n",
              "total_points               False\n",
              "previous_points            False\n",
              "rank_change                False\n",
              "cur_year_avg               False\n",
              "cur_year_avg_weighted      False\n",
              "last_year_avg              False\n",
              "last_year_avg_weighted     False\n",
              "two_year_ago_avg           False\n",
              "two_year_ago_weighted      False\n",
              "three_year_ago_avg         False\n",
              "three_year_ago_weighted    False\n",
              "confederation              False\n",
              "dtype: bool"
            ]
          },
          "metadata": {
            "tags": []
          },
          "execution_count": 348
        }
      ]
    },
    {
      "cell_type": "code",
      "metadata": {
        "id": "pLC3yYfrznfy",
        "colab_type": "code",
        "colab": {
          "base_uri": "https://localhost:8080/",
          "height": 0
        },
        "outputId": "e334584a-ea1c-4e9c-bb97-7d123e6a934a"
      },
      "source": [
        "# checking for duplicates\n",
        "data1.duplicated().any()"
      ],
      "execution_count": 349,
      "outputs": [
        {
          "output_type": "execute_result",
          "data": {
            "text/plain": [
              "False"
            ]
          },
          "metadata": {
            "tags": []
          },
          "execution_count": 349
        }
      ]
    },
    {
      "cell_type": "code",
      "metadata": {
        "id": "XjYjHLS40PQ2",
        "colab_type": "code",
        "colab": {
          "base_uri": "https://localhost:8080/",
          "height": 0
        },
        "outputId": "eb4c8f5b-aabd-4c2c-b1bf-e96e1e115d46"
      },
      "source": [
        "# checking for null values\n",
        "data1.isnull().any()"
      ],
      "execution_count": 350,
      "outputs": [
        {
          "output_type": "execute_result",
          "data": {
            "text/plain": [
              "date          False\n",
              "home_team     False\n",
              "away_team     False\n",
              "home_score    False\n",
              "away_score    False\n",
              "tournament    False\n",
              "city          False\n",
              "country       False\n",
              "neutral       False\n",
              "dtype: bool"
            ]
          },
          "metadata": {
            "tags": []
          },
          "execution_count": 350
        }
      ]
    },
    {
      "cell_type": "code",
      "metadata": {
        "id": "KV2RMhCsrKvg",
        "colab_type": "code",
        "colab": {
          "base_uri": "https://localhost:8080/",
          "height": 0
        },
        "outputId": "3e06b8b3-f8a4-451a-d013-58d23b7e1a06"
      },
      "source": [
        "#merging datasets\n",
        "frames = [data, data1]\n",
        "df = pd.concat(frames)\n",
        "df"
      ],
      "execution_count": 351,
      "outputs": [
        {
          "output_type": "execute_result",
          "data": {
            "text/html": [
              "<div>\n",
              "<style scoped>\n",
              "    .dataframe tbody tr th:only-of-type {\n",
              "        vertical-align: middle;\n",
              "    }\n",
              "\n",
              "    .dataframe tbody tr th {\n",
              "        vertical-align: top;\n",
              "    }\n",
              "\n",
              "    .dataframe thead th {\n",
              "        text-align: right;\n",
              "    }\n",
              "</style>\n",
              "<table border=\"1\" class=\"dataframe\">\n",
              "  <thead>\n",
              "    <tr style=\"text-align: right;\">\n",
              "      <th></th>\n",
              "      <th>rank</th>\n",
              "      <th>country</th>\n",
              "      <th>total_points</th>\n",
              "      <th>previous_points</th>\n",
              "      <th>rank_change</th>\n",
              "      <th>cur_year_avg</th>\n",
              "      <th>cur_year_avg_weighted</th>\n",
              "      <th>last_year_avg</th>\n",
              "      <th>last_year_avg_weighted</th>\n",
              "      <th>two_year_ago_avg</th>\n",
              "      <th>two_year_ago_weighted</th>\n",
              "      <th>three_year_ago_avg</th>\n",
              "      <th>three_year_ago_weighted</th>\n",
              "      <th>confederation</th>\n",
              "      <th>date</th>\n",
              "      <th>home_team</th>\n",
              "      <th>away_team</th>\n",
              "      <th>home_score</th>\n",
              "      <th>away_score</th>\n",
              "      <th>tournament</th>\n",
              "      <th>city</th>\n",
              "      <th>neutral</th>\n",
              "    </tr>\n",
              "  </thead>\n",
              "  <tbody>\n",
              "    <tr>\n",
              "      <th>0</th>\n",
              "      <td>1.0</td>\n",
              "      <td>Germany</td>\n",
              "      <td>0.0</td>\n",
              "      <td>57.0</td>\n",
              "      <td>0.0</td>\n",
              "      <td>0.0</td>\n",
              "      <td>0.0</td>\n",
              "      <td>0.0</td>\n",
              "      <td>0.0</td>\n",
              "      <td>0.0</td>\n",
              "      <td>0.0</td>\n",
              "      <td>0.0</td>\n",
              "      <td>0.0</td>\n",
              "      <td>UEFA</td>\n",
              "      <td>NaN</td>\n",
              "      <td>NaN</td>\n",
              "      <td>NaN</td>\n",
              "      <td>NaN</td>\n",
              "      <td>NaN</td>\n",
              "      <td>NaN</td>\n",
              "      <td>NaN</td>\n",
              "      <td>NaN</td>\n",
              "    </tr>\n",
              "    <tr>\n",
              "      <th>1</th>\n",
              "      <td>2.0</td>\n",
              "      <td>Italy</td>\n",
              "      <td>0.0</td>\n",
              "      <td>57.0</td>\n",
              "      <td>0.0</td>\n",
              "      <td>0.0</td>\n",
              "      <td>0.0</td>\n",
              "      <td>0.0</td>\n",
              "      <td>0.0</td>\n",
              "      <td>0.0</td>\n",
              "      <td>0.0</td>\n",
              "      <td>0.0</td>\n",
              "      <td>0.0</td>\n",
              "      <td>UEFA</td>\n",
              "      <td>NaN</td>\n",
              "      <td>NaN</td>\n",
              "      <td>NaN</td>\n",
              "      <td>NaN</td>\n",
              "      <td>NaN</td>\n",
              "      <td>NaN</td>\n",
              "      <td>NaN</td>\n",
              "      <td>NaN</td>\n",
              "    </tr>\n",
              "    <tr>\n",
              "      <th>2</th>\n",
              "      <td>3.0</td>\n",
              "      <td>Switzerland</td>\n",
              "      <td>0.0</td>\n",
              "      <td>50.0</td>\n",
              "      <td>9.0</td>\n",
              "      <td>0.0</td>\n",
              "      <td>0.0</td>\n",
              "      <td>0.0</td>\n",
              "      <td>0.0</td>\n",
              "      <td>0.0</td>\n",
              "      <td>0.0</td>\n",
              "      <td>0.0</td>\n",
              "      <td>0.0</td>\n",
              "      <td>UEFA</td>\n",
              "      <td>NaN</td>\n",
              "      <td>NaN</td>\n",
              "      <td>NaN</td>\n",
              "      <td>NaN</td>\n",
              "      <td>NaN</td>\n",
              "      <td>NaN</td>\n",
              "      <td>NaN</td>\n",
              "      <td>NaN</td>\n",
              "    </tr>\n",
              "    <tr>\n",
              "      <th>3</th>\n",
              "      <td>4.0</td>\n",
              "      <td>Sweden</td>\n",
              "      <td>0.0</td>\n",
              "      <td>55.0</td>\n",
              "      <td>0.0</td>\n",
              "      <td>0.0</td>\n",
              "      <td>0.0</td>\n",
              "      <td>0.0</td>\n",
              "      <td>0.0</td>\n",
              "      <td>0.0</td>\n",
              "      <td>0.0</td>\n",
              "      <td>0.0</td>\n",
              "      <td>0.0</td>\n",
              "      <td>UEFA</td>\n",
              "      <td>NaN</td>\n",
              "      <td>NaN</td>\n",
              "      <td>NaN</td>\n",
              "      <td>NaN</td>\n",
              "      <td>NaN</td>\n",
              "      <td>NaN</td>\n",
              "      <td>NaN</td>\n",
              "      <td>NaN</td>\n",
              "    </tr>\n",
              "    <tr>\n",
              "      <th>4</th>\n",
              "      <td>5.0</td>\n",
              "      <td>Argentina</td>\n",
              "      <td>0.0</td>\n",
              "      <td>51.0</td>\n",
              "      <td>5.0</td>\n",
              "      <td>0.0</td>\n",
              "      <td>0.0</td>\n",
              "      <td>0.0</td>\n",
              "      <td>0.0</td>\n",
              "      <td>0.0</td>\n",
              "      <td>0.0</td>\n",
              "      <td>0.0</td>\n",
              "      <td>0.0</td>\n",
              "      <td>CONMEBOL</td>\n",
              "      <td>NaN</td>\n",
              "      <td>NaN</td>\n",
              "      <td>NaN</td>\n",
              "      <td>NaN</td>\n",
              "      <td>NaN</td>\n",
              "      <td>NaN</td>\n",
              "      <td>NaN</td>\n",
              "      <td>NaN</td>\n",
              "    </tr>\n",
              "    <tr>\n",
              "      <th>...</th>\n",
              "      <td>...</td>\n",
              "      <td>...</td>\n",
              "      <td>...</td>\n",
              "      <td>...</td>\n",
              "      <td>...</td>\n",
              "      <td>...</td>\n",
              "      <td>...</td>\n",
              "      <td>...</td>\n",
              "      <td>...</td>\n",
              "      <td>...</td>\n",
              "      <td>...</td>\n",
              "      <td>...</td>\n",
              "      <td>...</td>\n",
              "      <td>...</td>\n",
              "      <td>...</td>\n",
              "      <td>...</td>\n",
              "      <td>...</td>\n",
              "      <td>...</td>\n",
              "      <td>...</td>\n",
              "      <td>...</td>\n",
              "      <td>...</td>\n",
              "      <td>...</td>\n",
              "    </tr>\n",
              "    <tr>\n",
              "      <th>40834</th>\n",
              "      <td>NaN</td>\n",
              "      <td>Samoa</td>\n",
              "      <td>NaN</td>\n",
              "      <td>NaN</td>\n",
              "      <td>NaN</td>\n",
              "      <td>NaN</td>\n",
              "      <td>NaN</td>\n",
              "      <td>NaN</td>\n",
              "      <td>NaN</td>\n",
              "      <td>NaN</td>\n",
              "      <td>NaN</td>\n",
              "      <td>NaN</td>\n",
              "      <td>NaN</td>\n",
              "      <td>NaN</td>\n",
              "      <td>2019-07-18</td>\n",
              "      <td>American Samoa</td>\n",
              "      <td>Tahiti</td>\n",
              "      <td>8.0</td>\n",
              "      <td>1.0</td>\n",
              "      <td>Pacific Games</td>\n",
              "      <td>Apia</td>\n",
              "      <td>True</td>\n",
              "    </tr>\n",
              "    <tr>\n",
              "      <th>40835</th>\n",
              "      <td>NaN</td>\n",
              "      <td>Samoa</td>\n",
              "      <td>NaN</td>\n",
              "      <td>NaN</td>\n",
              "      <td>NaN</td>\n",
              "      <td>NaN</td>\n",
              "      <td>NaN</td>\n",
              "      <td>NaN</td>\n",
              "      <td>NaN</td>\n",
              "      <td>NaN</td>\n",
              "      <td>NaN</td>\n",
              "      <td>NaN</td>\n",
              "      <td>NaN</td>\n",
              "      <td>NaN</td>\n",
              "      <td>2019-07-18</td>\n",
              "      <td>Fiji</td>\n",
              "      <td>Solomon Islands</td>\n",
              "      <td>4.0</td>\n",
              "      <td>4.0</td>\n",
              "      <td>Pacific Games</td>\n",
              "      <td>Apia</td>\n",
              "      <td>True</td>\n",
              "    </tr>\n",
              "    <tr>\n",
              "      <th>40836</th>\n",
              "      <td>NaN</td>\n",
              "      <td>Egypt</td>\n",
              "      <td>NaN</td>\n",
              "      <td>NaN</td>\n",
              "      <td>NaN</td>\n",
              "      <td>NaN</td>\n",
              "      <td>NaN</td>\n",
              "      <td>NaN</td>\n",
              "      <td>NaN</td>\n",
              "      <td>NaN</td>\n",
              "      <td>NaN</td>\n",
              "      <td>NaN</td>\n",
              "      <td>NaN</td>\n",
              "      <td>NaN</td>\n",
              "      <td>2019-07-19</td>\n",
              "      <td>Senegal</td>\n",
              "      <td>Algeria</td>\n",
              "      <td>0.0</td>\n",
              "      <td>1.0</td>\n",
              "      <td>African Cup of Nations</td>\n",
              "      <td>Cairo</td>\n",
              "      <td>True</td>\n",
              "    </tr>\n",
              "    <tr>\n",
              "      <th>40837</th>\n",
              "      <td>NaN</td>\n",
              "      <td>India</td>\n",
              "      <td>NaN</td>\n",
              "      <td>NaN</td>\n",
              "      <td>NaN</td>\n",
              "      <td>NaN</td>\n",
              "      <td>NaN</td>\n",
              "      <td>NaN</td>\n",
              "      <td>NaN</td>\n",
              "      <td>NaN</td>\n",
              "      <td>NaN</td>\n",
              "      <td>NaN</td>\n",
              "      <td>NaN</td>\n",
              "      <td>NaN</td>\n",
              "      <td>2019-07-19</td>\n",
              "      <td>Tajikistan</td>\n",
              "      <td>North Korea</td>\n",
              "      <td>0.0</td>\n",
              "      <td>1.0</td>\n",
              "      <td>Intercontinental Cup</td>\n",
              "      <td>Ahmedabad</td>\n",
              "      <td>True</td>\n",
              "    </tr>\n",
              "    <tr>\n",
              "      <th>40838</th>\n",
              "      <td>NaN</td>\n",
              "      <td>Samoa</td>\n",
              "      <td>NaN</td>\n",
              "      <td>NaN</td>\n",
              "      <td>NaN</td>\n",
              "      <td>NaN</td>\n",
              "      <td>NaN</td>\n",
              "      <td>NaN</td>\n",
              "      <td>NaN</td>\n",
              "      <td>NaN</td>\n",
              "      <td>NaN</td>\n",
              "      <td>NaN</td>\n",
              "      <td>NaN</td>\n",
              "      <td>NaN</td>\n",
              "      <td>2019-07-20</td>\n",
              "      <td>Papua New Guinea</td>\n",
              "      <td>Fiji</td>\n",
              "      <td>1.0</td>\n",
              "      <td>1.0</td>\n",
              "      <td>Pacific Games</td>\n",
              "      <td>Apia</td>\n",
              "      <td>True</td>\n",
              "    </tr>\n",
              "  </tbody>\n",
              "</table>\n",
              "<p>95228 rows × 22 columns</p>\n",
              "</div>"
            ],
            "text/plain": [
              "       rank      country  ...       city  neutral\n",
              "0       1.0      Germany  ...        NaN      NaN\n",
              "1       2.0        Italy  ...        NaN      NaN\n",
              "2       3.0  Switzerland  ...        NaN      NaN\n",
              "3       4.0       Sweden  ...        NaN      NaN\n",
              "4       5.0    Argentina  ...        NaN      NaN\n",
              "...     ...          ...  ...        ...      ...\n",
              "40834   NaN        Samoa  ...       Apia     True\n",
              "40835   NaN        Samoa  ...       Apia     True\n",
              "40836   NaN        Egypt  ...      Cairo     True\n",
              "40837   NaN        India  ...  Ahmedabad     True\n",
              "40838   NaN        Samoa  ...       Apia     True\n",
              "\n",
              "[95228 rows x 22 columns]"
            ]
          },
          "metadata": {
            "tags": []
          },
          "execution_count": 351
        }
      ]
    },
    {
      "cell_type": "code",
      "metadata": {
        "id": "6yWCf664y0RA",
        "colab_type": "code",
        "colab": {
          "base_uri": "https://localhost:8080/",
          "height": 0
        },
        "outputId": "bdf49f50-4379-4648-894e-0e5d4b6b8203"
      },
      "source": [
        "df.head()"
      ],
      "execution_count": 352,
      "outputs": [
        {
          "output_type": "execute_result",
          "data": {
            "text/html": [
              "<div>\n",
              "<style scoped>\n",
              "    .dataframe tbody tr th:only-of-type {\n",
              "        vertical-align: middle;\n",
              "    }\n",
              "\n",
              "    .dataframe tbody tr th {\n",
              "        vertical-align: top;\n",
              "    }\n",
              "\n",
              "    .dataframe thead th {\n",
              "        text-align: right;\n",
              "    }\n",
              "</style>\n",
              "<table border=\"1\" class=\"dataframe\">\n",
              "  <thead>\n",
              "    <tr style=\"text-align: right;\">\n",
              "      <th></th>\n",
              "      <th>rank</th>\n",
              "      <th>country</th>\n",
              "      <th>total_points</th>\n",
              "      <th>previous_points</th>\n",
              "      <th>rank_change</th>\n",
              "      <th>cur_year_avg</th>\n",
              "      <th>cur_year_avg_weighted</th>\n",
              "      <th>last_year_avg</th>\n",
              "      <th>last_year_avg_weighted</th>\n",
              "      <th>two_year_ago_avg</th>\n",
              "      <th>two_year_ago_weighted</th>\n",
              "      <th>three_year_ago_avg</th>\n",
              "      <th>three_year_ago_weighted</th>\n",
              "      <th>confederation</th>\n",
              "      <th>date</th>\n",
              "      <th>home_team</th>\n",
              "      <th>away_team</th>\n",
              "      <th>home_score</th>\n",
              "      <th>away_score</th>\n",
              "      <th>tournament</th>\n",
              "      <th>city</th>\n",
              "      <th>neutral</th>\n",
              "    </tr>\n",
              "  </thead>\n",
              "  <tbody>\n",
              "    <tr>\n",
              "      <th>0</th>\n",
              "      <td>1.0</td>\n",
              "      <td>Germany</td>\n",
              "      <td>0.0</td>\n",
              "      <td>57.0</td>\n",
              "      <td>0.0</td>\n",
              "      <td>0.0</td>\n",
              "      <td>0.0</td>\n",
              "      <td>0.0</td>\n",
              "      <td>0.0</td>\n",
              "      <td>0.0</td>\n",
              "      <td>0.0</td>\n",
              "      <td>0.0</td>\n",
              "      <td>0.0</td>\n",
              "      <td>UEFA</td>\n",
              "      <td>NaN</td>\n",
              "      <td>NaN</td>\n",
              "      <td>NaN</td>\n",
              "      <td>NaN</td>\n",
              "      <td>NaN</td>\n",
              "      <td>NaN</td>\n",
              "      <td>NaN</td>\n",
              "      <td>NaN</td>\n",
              "    </tr>\n",
              "    <tr>\n",
              "      <th>1</th>\n",
              "      <td>2.0</td>\n",
              "      <td>Italy</td>\n",
              "      <td>0.0</td>\n",
              "      <td>57.0</td>\n",
              "      <td>0.0</td>\n",
              "      <td>0.0</td>\n",
              "      <td>0.0</td>\n",
              "      <td>0.0</td>\n",
              "      <td>0.0</td>\n",
              "      <td>0.0</td>\n",
              "      <td>0.0</td>\n",
              "      <td>0.0</td>\n",
              "      <td>0.0</td>\n",
              "      <td>UEFA</td>\n",
              "      <td>NaN</td>\n",
              "      <td>NaN</td>\n",
              "      <td>NaN</td>\n",
              "      <td>NaN</td>\n",
              "      <td>NaN</td>\n",
              "      <td>NaN</td>\n",
              "      <td>NaN</td>\n",
              "      <td>NaN</td>\n",
              "    </tr>\n",
              "    <tr>\n",
              "      <th>2</th>\n",
              "      <td>3.0</td>\n",
              "      <td>Switzerland</td>\n",
              "      <td>0.0</td>\n",
              "      <td>50.0</td>\n",
              "      <td>9.0</td>\n",
              "      <td>0.0</td>\n",
              "      <td>0.0</td>\n",
              "      <td>0.0</td>\n",
              "      <td>0.0</td>\n",
              "      <td>0.0</td>\n",
              "      <td>0.0</td>\n",
              "      <td>0.0</td>\n",
              "      <td>0.0</td>\n",
              "      <td>UEFA</td>\n",
              "      <td>NaN</td>\n",
              "      <td>NaN</td>\n",
              "      <td>NaN</td>\n",
              "      <td>NaN</td>\n",
              "      <td>NaN</td>\n",
              "      <td>NaN</td>\n",
              "      <td>NaN</td>\n",
              "      <td>NaN</td>\n",
              "    </tr>\n",
              "    <tr>\n",
              "      <th>3</th>\n",
              "      <td>4.0</td>\n",
              "      <td>Sweden</td>\n",
              "      <td>0.0</td>\n",
              "      <td>55.0</td>\n",
              "      <td>0.0</td>\n",
              "      <td>0.0</td>\n",
              "      <td>0.0</td>\n",
              "      <td>0.0</td>\n",
              "      <td>0.0</td>\n",
              "      <td>0.0</td>\n",
              "      <td>0.0</td>\n",
              "      <td>0.0</td>\n",
              "      <td>0.0</td>\n",
              "      <td>UEFA</td>\n",
              "      <td>NaN</td>\n",
              "      <td>NaN</td>\n",
              "      <td>NaN</td>\n",
              "      <td>NaN</td>\n",
              "      <td>NaN</td>\n",
              "      <td>NaN</td>\n",
              "      <td>NaN</td>\n",
              "      <td>NaN</td>\n",
              "    </tr>\n",
              "    <tr>\n",
              "      <th>4</th>\n",
              "      <td>5.0</td>\n",
              "      <td>Argentina</td>\n",
              "      <td>0.0</td>\n",
              "      <td>51.0</td>\n",
              "      <td>5.0</td>\n",
              "      <td>0.0</td>\n",
              "      <td>0.0</td>\n",
              "      <td>0.0</td>\n",
              "      <td>0.0</td>\n",
              "      <td>0.0</td>\n",
              "      <td>0.0</td>\n",
              "      <td>0.0</td>\n",
              "      <td>0.0</td>\n",
              "      <td>CONMEBOL</td>\n",
              "      <td>NaN</td>\n",
              "      <td>NaN</td>\n",
              "      <td>NaN</td>\n",
              "      <td>NaN</td>\n",
              "      <td>NaN</td>\n",
              "      <td>NaN</td>\n",
              "      <td>NaN</td>\n",
              "      <td>NaN</td>\n",
              "    </tr>\n",
              "  </tbody>\n",
              "</table>\n",
              "</div>"
            ],
            "text/plain": [
              "   rank      country  total_points  ...  tournament  city  neutral\n",
              "0   1.0      Germany           0.0  ...         NaN   NaN      NaN\n",
              "1   2.0        Italy           0.0  ...         NaN   NaN      NaN\n",
              "2   3.0  Switzerland           0.0  ...         NaN   NaN      NaN\n",
              "3   4.0       Sweden           0.0  ...         NaN   NaN      NaN\n",
              "4   5.0    Argentina           0.0  ...         NaN   NaN      NaN\n",
              "\n",
              "[5 rows x 22 columns]"
            ]
          },
          "metadata": {
            "tags": []
          },
          "execution_count": 352
        }
      ]
    },
    {
      "cell_type": "code",
      "metadata": {
        "id": "v98KMvrEyhUo",
        "colab_type": "code",
        "colab": {
          "base_uri": "https://localhost:8080/",
          "height": 0
        },
        "outputId": "8e501af2-ebd2-43b4-93c0-7279fb1ee07d"
      },
      "source": [
        "df.isnull().any()"
      ],
      "execution_count": 353,
      "outputs": [
        {
          "output_type": "execute_result",
          "data": {
            "text/plain": [
              "rank                        True\n",
              "country                    False\n",
              "total_points                True\n",
              "previous_points             True\n",
              "rank_change                 True\n",
              "cur_year_avg                True\n",
              "cur_year_avg_weighted       True\n",
              "last_year_avg               True\n",
              "last_year_avg_weighted      True\n",
              "two_year_ago_avg            True\n",
              "two_year_ago_weighted       True\n",
              "three_year_ago_avg          True\n",
              "three_year_ago_weighted     True\n",
              "confederation               True\n",
              "date                        True\n",
              "home_team                   True\n",
              "away_team                   True\n",
              "home_score                  True\n",
              "away_score                  True\n",
              "tournament                  True\n",
              "city                        True\n",
              "neutral                     True\n",
              "dtype: bool"
            ]
          },
          "metadata": {
            "tags": []
          },
          "execution_count": 353
        }
      ]
    },
    {
      "cell_type": "code",
      "metadata": {
        "id": "EZ3NDQYKj_xD",
        "colab_type": "code",
        "colab": {
          "base_uri": "https://localhost:8080/",
          "height": 0
        },
        "outputId": "20980c25-e707-4cc7-ce25-4a3783c36936"
      },
      "source": [
        "# finding shape of the dataset\n",
        "df.shape"
      ],
      "execution_count": 354,
      "outputs": [
        {
          "output_type": "execute_result",
          "data": {
            "text/plain": [
              "(95228, 22)"
            ]
          },
          "metadata": {
            "tags": []
          },
          "execution_count": 354
        }
      ]
    },
    {
      "cell_type": "code",
      "metadata": {
        "id": "46YooCHEaW9A",
        "colab_type": "code",
        "colab": {
          "base_uri": "https://localhost:8080/",
          "height": 0
        },
        "outputId": "6f6d16b3-b823-409a-d3a7-52bf18fe5a77"
      },
      "source": [
        "# reading columns\n",
        "df.columns"
      ],
      "execution_count": 355,
      "outputs": [
        {
          "output_type": "execute_result",
          "data": {
            "text/plain": [
              "Index(['rank', 'country', 'total_points', 'previous_points', 'rank_change',\n",
              "       'cur_year_avg', 'cur_year_avg_weighted', 'last_year_avg',\n",
              "       'last_year_avg_weighted', 'two_year_ago_avg', 'two_year_ago_weighted',\n",
              "       'three_year_ago_avg', 'three_year_ago_weighted', 'confederation',\n",
              "       'date', 'home_team', 'away_team', 'home_score', 'away_score',\n",
              "       'tournament', 'city', 'neutral'],\n",
              "      dtype='object')"
            ]
          },
          "metadata": {
            "tags": []
          },
          "execution_count": 355
        }
      ]
    },
    {
      "cell_type": "code",
      "metadata": {
        "id": "rKM0Tf3GaWWp",
        "colab_type": "code",
        "colab": {
          "base_uri": "https://localhost:8080/",
          "height": 0
        },
        "outputId": "6be6a8a1-1e24-424b-93ae-e63105a5fd33"
      },
      "source": [
        "# finding shape of the dataset\n",
        "df.shape"
      ],
      "execution_count": 356,
      "outputs": [
        {
          "output_type": "execute_result",
          "data": {
            "text/plain": [
              "(95228, 22)"
            ]
          },
          "metadata": {
            "tags": []
          },
          "execution_count": 356
        }
      ]
    },
    {
      "cell_type": "code",
      "metadata": {
        "id": "PnAlKszFkJzs",
        "colab_type": "code",
        "colab": {
          "base_uri": "https://localhost:8080/",
          "height": 0
        },
        "outputId": "6298d326-8e71-4a47-b94c-f77653d241db"
      },
      "source": [
        "#previewing dataset\n",
        "df.head()"
      ],
      "execution_count": 357,
      "outputs": [
        {
          "output_type": "execute_result",
          "data": {
            "text/html": [
              "<div>\n",
              "<style scoped>\n",
              "    .dataframe tbody tr th:only-of-type {\n",
              "        vertical-align: middle;\n",
              "    }\n",
              "\n",
              "    .dataframe tbody tr th {\n",
              "        vertical-align: top;\n",
              "    }\n",
              "\n",
              "    .dataframe thead th {\n",
              "        text-align: right;\n",
              "    }\n",
              "</style>\n",
              "<table border=\"1\" class=\"dataframe\">\n",
              "  <thead>\n",
              "    <tr style=\"text-align: right;\">\n",
              "      <th></th>\n",
              "      <th>rank</th>\n",
              "      <th>country</th>\n",
              "      <th>total_points</th>\n",
              "      <th>previous_points</th>\n",
              "      <th>rank_change</th>\n",
              "      <th>cur_year_avg</th>\n",
              "      <th>cur_year_avg_weighted</th>\n",
              "      <th>last_year_avg</th>\n",
              "      <th>last_year_avg_weighted</th>\n",
              "      <th>two_year_ago_avg</th>\n",
              "      <th>two_year_ago_weighted</th>\n",
              "      <th>three_year_ago_avg</th>\n",
              "      <th>three_year_ago_weighted</th>\n",
              "      <th>confederation</th>\n",
              "      <th>date</th>\n",
              "      <th>home_team</th>\n",
              "      <th>away_team</th>\n",
              "      <th>home_score</th>\n",
              "      <th>away_score</th>\n",
              "      <th>tournament</th>\n",
              "      <th>city</th>\n",
              "      <th>neutral</th>\n",
              "    </tr>\n",
              "  </thead>\n",
              "  <tbody>\n",
              "    <tr>\n",
              "      <th>0</th>\n",
              "      <td>1.0</td>\n",
              "      <td>Germany</td>\n",
              "      <td>0.0</td>\n",
              "      <td>57.0</td>\n",
              "      <td>0.0</td>\n",
              "      <td>0.0</td>\n",
              "      <td>0.0</td>\n",
              "      <td>0.0</td>\n",
              "      <td>0.0</td>\n",
              "      <td>0.0</td>\n",
              "      <td>0.0</td>\n",
              "      <td>0.0</td>\n",
              "      <td>0.0</td>\n",
              "      <td>UEFA</td>\n",
              "      <td>NaN</td>\n",
              "      <td>NaN</td>\n",
              "      <td>NaN</td>\n",
              "      <td>NaN</td>\n",
              "      <td>NaN</td>\n",
              "      <td>NaN</td>\n",
              "      <td>NaN</td>\n",
              "      <td>NaN</td>\n",
              "    </tr>\n",
              "    <tr>\n",
              "      <th>1</th>\n",
              "      <td>2.0</td>\n",
              "      <td>Italy</td>\n",
              "      <td>0.0</td>\n",
              "      <td>57.0</td>\n",
              "      <td>0.0</td>\n",
              "      <td>0.0</td>\n",
              "      <td>0.0</td>\n",
              "      <td>0.0</td>\n",
              "      <td>0.0</td>\n",
              "      <td>0.0</td>\n",
              "      <td>0.0</td>\n",
              "      <td>0.0</td>\n",
              "      <td>0.0</td>\n",
              "      <td>UEFA</td>\n",
              "      <td>NaN</td>\n",
              "      <td>NaN</td>\n",
              "      <td>NaN</td>\n",
              "      <td>NaN</td>\n",
              "      <td>NaN</td>\n",
              "      <td>NaN</td>\n",
              "      <td>NaN</td>\n",
              "      <td>NaN</td>\n",
              "    </tr>\n",
              "    <tr>\n",
              "      <th>2</th>\n",
              "      <td>3.0</td>\n",
              "      <td>Switzerland</td>\n",
              "      <td>0.0</td>\n",
              "      <td>50.0</td>\n",
              "      <td>9.0</td>\n",
              "      <td>0.0</td>\n",
              "      <td>0.0</td>\n",
              "      <td>0.0</td>\n",
              "      <td>0.0</td>\n",
              "      <td>0.0</td>\n",
              "      <td>0.0</td>\n",
              "      <td>0.0</td>\n",
              "      <td>0.0</td>\n",
              "      <td>UEFA</td>\n",
              "      <td>NaN</td>\n",
              "      <td>NaN</td>\n",
              "      <td>NaN</td>\n",
              "      <td>NaN</td>\n",
              "      <td>NaN</td>\n",
              "      <td>NaN</td>\n",
              "      <td>NaN</td>\n",
              "      <td>NaN</td>\n",
              "    </tr>\n",
              "    <tr>\n",
              "      <th>3</th>\n",
              "      <td>4.0</td>\n",
              "      <td>Sweden</td>\n",
              "      <td>0.0</td>\n",
              "      <td>55.0</td>\n",
              "      <td>0.0</td>\n",
              "      <td>0.0</td>\n",
              "      <td>0.0</td>\n",
              "      <td>0.0</td>\n",
              "      <td>0.0</td>\n",
              "      <td>0.0</td>\n",
              "      <td>0.0</td>\n",
              "      <td>0.0</td>\n",
              "      <td>0.0</td>\n",
              "      <td>UEFA</td>\n",
              "      <td>NaN</td>\n",
              "      <td>NaN</td>\n",
              "      <td>NaN</td>\n",
              "      <td>NaN</td>\n",
              "      <td>NaN</td>\n",
              "      <td>NaN</td>\n",
              "      <td>NaN</td>\n",
              "      <td>NaN</td>\n",
              "    </tr>\n",
              "    <tr>\n",
              "      <th>4</th>\n",
              "      <td>5.0</td>\n",
              "      <td>Argentina</td>\n",
              "      <td>0.0</td>\n",
              "      <td>51.0</td>\n",
              "      <td>5.0</td>\n",
              "      <td>0.0</td>\n",
              "      <td>0.0</td>\n",
              "      <td>0.0</td>\n",
              "      <td>0.0</td>\n",
              "      <td>0.0</td>\n",
              "      <td>0.0</td>\n",
              "      <td>0.0</td>\n",
              "      <td>0.0</td>\n",
              "      <td>CONMEBOL</td>\n",
              "      <td>NaN</td>\n",
              "      <td>NaN</td>\n",
              "      <td>NaN</td>\n",
              "      <td>NaN</td>\n",
              "      <td>NaN</td>\n",
              "      <td>NaN</td>\n",
              "      <td>NaN</td>\n",
              "      <td>NaN</td>\n",
              "    </tr>\n",
              "  </tbody>\n",
              "</table>\n",
              "</div>"
            ],
            "text/plain": [
              "   rank      country  total_points  ...  tournament  city  neutral\n",
              "0   1.0      Germany           0.0  ...         NaN   NaN      NaN\n",
              "1   2.0        Italy           0.0  ...         NaN   NaN      NaN\n",
              "2   3.0  Switzerland           0.0  ...         NaN   NaN      NaN\n",
              "3   4.0       Sweden           0.0  ...         NaN   NaN      NaN\n",
              "4   5.0    Argentina           0.0  ...         NaN   NaN      NaN\n",
              "\n",
              "[5 rows x 22 columns]"
            ]
          },
          "metadata": {
            "tags": []
          },
          "execution_count": 357
        }
      ]
    },
    {
      "cell_type": "code",
      "metadata": {
        "id": "dCHnQAcUkQST",
        "colab_type": "code",
        "colab": {
          "base_uri": "https://localhost:8080/",
          "height": 0
        },
        "outputId": "3ce22962-3ca1-4df6-aaa4-f3cb9c3f7d3f"
      },
      "source": [
        "df.tail()"
      ],
      "execution_count": 358,
      "outputs": [
        {
          "output_type": "execute_result",
          "data": {
            "text/html": [
              "<div>\n",
              "<style scoped>\n",
              "    .dataframe tbody tr th:only-of-type {\n",
              "        vertical-align: middle;\n",
              "    }\n",
              "\n",
              "    .dataframe tbody tr th {\n",
              "        vertical-align: top;\n",
              "    }\n",
              "\n",
              "    .dataframe thead th {\n",
              "        text-align: right;\n",
              "    }\n",
              "</style>\n",
              "<table border=\"1\" class=\"dataframe\">\n",
              "  <thead>\n",
              "    <tr style=\"text-align: right;\">\n",
              "      <th></th>\n",
              "      <th>rank</th>\n",
              "      <th>country</th>\n",
              "      <th>total_points</th>\n",
              "      <th>previous_points</th>\n",
              "      <th>rank_change</th>\n",
              "      <th>cur_year_avg</th>\n",
              "      <th>cur_year_avg_weighted</th>\n",
              "      <th>last_year_avg</th>\n",
              "      <th>last_year_avg_weighted</th>\n",
              "      <th>two_year_ago_avg</th>\n",
              "      <th>two_year_ago_weighted</th>\n",
              "      <th>three_year_ago_avg</th>\n",
              "      <th>three_year_ago_weighted</th>\n",
              "      <th>confederation</th>\n",
              "      <th>date</th>\n",
              "      <th>home_team</th>\n",
              "      <th>away_team</th>\n",
              "      <th>home_score</th>\n",
              "      <th>away_score</th>\n",
              "      <th>tournament</th>\n",
              "      <th>city</th>\n",
              "      <th>neutral</th>\n",
              "    </tr>\n",
              "  </thead>\n",
              "  <tbody>\n",
              "    <tr>\n",
              "      <th>40834</th>\n",
              "      <td>NaN</td>\n",
              "      <td>Samoa</td>\n",
              "      <td>NaN</td>\n",
              "      <td>NaN</td>\n",
              "      <td>NaN</td>\n",
              "      <td>NaN</td>\n",
              "      <td>NaN</td>\n",
              "      <td>NaN</td>\n",
              "      <td>NaN</td>\n",
              "      <td>NaN</td>\n",
              "      <td>NaN</td>\n",
              "      <td>NaN</td>\n",
              "      <td>NaN</td>\n",
              "      <td>NaN</td>\n",
              "      <td>2019-07-18</td>\n",
              "      <td>American Samoa</td>\n",
              "      <td>Tahiti</td>\n",
              "      <td>8.0</td>\n",
              "      <td>1.0</td>\n",
              "      <td>Pacific Games</td>\n",
              "      <td>Apia</td>\n",
              "      <td>True</td>\n",
              "    </tr>\n",
              "    <tr>\n",
              "      <th>40835</th>\n",
              "      <td>NaN</td>\n",
              "      <td>Samoa</td>\n",
              "      <td>NaN</td>\n",
              "      <td>NaN</td>\n",
              "      <td>NaN</td>\n",
              "      <td>NaN</td>\n",
              "      <td>NaN</td>\n",
              "      <td>NaN</td>\n",
              "      <td>NaN</td>\n",
              "      <td>NaN</td>\n",
              "      <td>NaN</td>\n",
              "      <td>NaN</td>\n",
              "      <td>NaN</td>\n",
              "      <td>NaN</td>\n",
              "      <td>2019-07-18</td>\n",
              "      <td>Fiji</td>\n",
              "      <td>Solomon Islands</td>\n",
              "      <td>4.0</td>\n",
              "      <td>4.0</td>\n",
              "      <td>Pacific Games</td>\n",
              "      <td>Apia</td>\n",
              "      <td>True</td>\n",
              "    </tr>\n",
              "    <tr>\n",
              "      <th>40836</th>\n",
              "      <td>NaN</td>\n",
              "      <td>Egypt</td>\n",
              "      <td>NaN</td>\n",
              "      <td>NaN</td>\n",
              "      <td>NaN</td>\n",
              "      <td>NaN</td>\n",
              "      <td>NaN</td>\n",
              "      <td>NaN</td>\n",
              "      <td>NaN</td>\n",
              "      <td>NaN</td>\n",
              "      <td>NaN</td>\n",
              "      <td>NaN</td>\n",
              "      <td>NaN</td>\n",
              "      <td>NaN</td>\n",
              "      <td>2019-07-19</td>\n",
              "      <td>Senegal</td>\n",
              "      <td>Algeria</td>\n",
              "      <td>0.0</td>\n",
              "      <td>1.0</td>\n",
              "      <td>African Cup of Nations</td>\n",
              "      <td>Cairo</td>\n",
              "      <td>True</td>\n",
              "    </tr>\n",
              "    <tr>\n",
              "      <th>40837</th>\n",
              "      <td>NaN</td>\n",
              "      <td>India</td>\n",
              "      <td>NaN</td>\n",
              "      <td>NaN</td>\n",
              "      <td>NaN</td>\n",
              "      <td>NaN</td>\n",
              "      <td>NaN</td>\n",
              "      <td>NaN</td>\n",
              "      <td>NaN</td>\n",
              "      <td>NaN</td>\n",
              "      <td>NaN</td>\n",
              "      <td>NaN</td>\n",
              "      <td>NaN</td>\n",
              "      <td>NaN</td>\n",
              "      <td>2019-07-19</td>\n",
              "      <td>Tajikistan</td>\n",
              "      <td>North Korea</td>\n",
              "      <td>0.0</td>\n",
              "      <td>1.0</td>\n",
              "      <td>Intercontinental Cup</td>\n",
              "      <td>Ahmedabad</td>\n",
              "      <td>True</td>\n",
              "    </tr>\n",
              "    <tr>\n",
              "      <th>40838</th>\n",
              "      <td>NaN</td>\n",
              "      <td>Samoa</td>\n",
              "      <td>NaN</td>\n",
              "      <td>NaN</td>\n",
              "      <td>NaN</td>\n",
              "      <td>NaN</td>\n",
              "      <td>NaN</td>\n",
              "      <td>NaN</td>\n",
              "      <td>NaN</td>\n",
              "      <td>NaN</td>\n",
              "      <td>NaN</td>\n",
              "      <td>NaN</td>\n",
              "      <td>NaN</td>\n",
              "      <td>NaN</td>\n",
              "      <td>2019-07-20</td>\n",
              "      <td>Papua New Guinea</td>\n",
              "      <td>Fiji</td>\n",
              "      <td>1.0</td>\n",
              "      <td>1.0</td>\n",
              "      <td>Pacific Games</td>\n",
              "      <td>Apia</td>\n",
              "      <td>True</td>\n",
              "    </tr>\n",
              "  </tbody>\n",
              "</table>\n",
              "</div>"
            ],
            "text/plain": [
              "       rank country  total_points  ...              tournament       city  neutral\n",
              "40834   NaN   Samoa           NaN  ...           Pacific Games       Apia     True\n",
              "40835   NaN   Samoa           NaN  ...           Pacific Games       Apia     True\n",
              "40836   NaN   Egypt           NaN  ...  African Cup of Nations      Cairo     True\n",
              "40837   NaN   India           NaN  ...    Intercontinental Cup  Ahmedabad     True\n",
              "40838   NaN   Samoa           NaN  ...           Pacific Games       Apia     True\n",
              "\n",
              "[5 rows x 22 columns]"
            ]
          },
          "metadata": {
            "tags": []
          },
          "execution_count": 358
        }
      ]
    },
    {
      "cell_type": "code",
      "metadata": {
        "id": "tfFLCXstkS8j",
        "colab_type": "code",
        "colab": {
          "base_uri": "https://localhost:8080/",
          "height": 0
        },
        "outputId": "00d36108-7550-40fd-fa9c-65a503b7cb39"
      },
      "source": [
        "df.sample(7)"
      ],
      "execution_count": 359,
      "outputs": [
        {
          "output_type": "execute_result",
          "data": {
            "text/html": [
              "<div>\n",
              "<style scoped>\n",
              "    .dataframe tbody tr th:only-of-type {\n",
              "        vertical-align: middle;\n",
              "    }\n",
              "\n",
              "    .dataframe tbody tr th {\n",
              "        vertical-align: top;\n",
              "    }\n",
              "\n",
              "    .dataframe thead th {\n",
              "        text-align: right;\n",
              "    }\n",
              "</style>\n",
              "<table border=\"1\" class=\"dataframe\">\n",
              "  <thead>\n",
              "    <tr style=\"text-align: right;\">\n",
              "      <th></th>\n",
              "      <th>rank</th>\n",
              "      <th>country</th>\n",
              "      <th>total_points</th>\n",
              "      <th>previous_points</th>\n",
              "      <th>rank_change</th>\n",
              "      <th>cur_year_avg</th>\n",
              "      <th>cur_year_avg_weighted</th>\n",
              "      <th>last_year_avg</th>\n",
              "      <th>last_year_avg_weighted</th>\n",
              "      <th>two_year_ago_avg</th>\n",
              "      <th>two_year_ago_weighted</th>\n",
              "      <th>three_year_ago_avg</th>\n",
              "      <th>three_year_ago_weighted</th>\n",
              "      <th>confederation</th>\n",
              "      <th>date</th>\n",
              "      <th>home_team</th>\n",
              "      <th>away_team</th>\n",
              "      <th>home_score</th>\n",
              "      <th>away_score</th>\n",
              "      <th>tournament</th>\n",
              "      <th>city</th>\n",
              "      <th>neutral</th>\n",
              "    </tr>\n",
              "  </thead>\n",
              "  <tbody>\n",
              "    <tr>\n",
              "      <th>16232</th>\n",
              "      <td>112.0</td>\n",
              "      <td>Panama</td>\n",
              "      <td>0.00</td>\n",
              "      <td>382.0</td>\n",
              "      <td>2.0</td>\n",
              "      <td>0.0</td>\n",
              "      <td>0.0</td>\n",
              "      <td>0.00</td>\n",
              "      <td>0.00</td>\n",
              "      <td>0.00</td>\n",
              "      <td>0.00</td>\n",
              "      <td>0.00</td>\n",
              "      <td>0.00</td>\n",
              "      <td>CONCACAF</td>\n",
              "      <td>NaN</td>\n",
              "      <td>NaN</td>\n",
              "      <td>NaN</td>\n",
              "      <td>NaN</td>\n",
              "      <td>NaN</td>\n",
              "      <td>NaN</td>\n",
              "      <td>NaN</td>\n",
              "      <td>NaN</td>\n",
              "    </tr>\n",
              "    <tr>\n",
              "      <th>689</th>\n",
              "      <td>NaN</td>\n",
              "      <td>Belgium</td>\n",
              "      <td>NaN</td>\n",
              "      <td>NaN</td>\n",
              "      <td>NaN</td>\n",
              "      <td>NaN</td>\n",
              "      <td>NaN</td>\n",
              "      <td>NaN</td>\n",
              "      <td>NaN</td>\n",
              "      <td>NaN</td>\n",
              "      <td>NaN</td>\n",
              "      <td>NaN</td>\n",
              "      <td>NaN</td>\n",
              "      <td>NaN</td>\n",
              "      <td>1923-02-25</td>\n",
              "      <td>Belgium</td>\n",
              "      <td>France</td>\n",
              "      <td>4.0</td>\n",
              "      <td>1.0</td>\n",
              "      <td>Friendly</td>\n",
              "      <td>Forest</td>\n",
              "      <td>False</td>\n",
              "    </tr>\n",
              "    <tr>\n",
              "      <th>36762</th>\n",
              "      <td>NaN</td>\n",
              "      <td>Bulgaria</td>\n",
              "      <td>NaN</td>\n",
              "      <td>NaN</td>\n",
              "      <td>NaN</td>\n",
              "      <td>NaN</td>\n",
              "      <td>NaN</td>\n",
              "      <td>NaN</td>\n",
              "      <td>NaN</td>\n",
              "      <td>NaN</td>\n",
              "      <td>NaN</td>\n",
              "      <td>NaN</td>\n",
              "      <td>NaN</td>\n",
              "      <td>NaN</td>\n",
              "      <td>2015-03-28</td>\n",
              "      <td>Bulgaria</td>\n",
              "      <td>Italy</td>\n",
              "      <td>2.0</td>\n",
              "      <td>2.0</td>\n",
              "      <td>UEFA Euro qualification</td>\n",
              "      <td>Sofia</td>\n",
              "      <td>False</td>\n",
              "    </tr>\n",
              "    <tr>\n",
              "      <th>31395</th>\n",
              "      <td>124.0</td>\n",
              "      <td>Barbados</td>\n",
              "      <td>0.00</td>\n",
              "      <td>359.0</td>\n",
              "      <td>-31.0</td>\n",
              "      <td>0.0</td>\n",
              "      <td>0.0</td>\n",
              "      <td>0.00</td>\n",
              "      <td>0.00</td>\n",
              "      <td>0.00</td>\n",
              "      <td>0.00</td>\n",
              "      <td>0.00</td>\n",
              "      <td>0.00</td>\n",
              "      <td>CONCACAF</td>\n",
              "      <td>NaN</td>\n",
              "      <td>NaN</td>\n",
              "      <td>NaN</td>\n",
              "      <td>NaN</td>\n",
              "      <td>NaN</td>\n",
              "      <td>NaN</td>\n",
              "      <td>NaN</td>\n",
              "      <td>NaN</td>\n",
              "    </tr>\n",
              "    <tr>\n",
              "      <th>9001</th>\n",
              "      <td>NaN</td>\n",
              "      <td>Austria</td>\n",
              "      <td>NaN</td>\n",
              "      <td>NaN</td>\n",
              "      <td>NaN</td>\n",
              "      <td>NaN</td>\n",
              "      <td>NaN</td>\n",
              "      <td>NaN</td>\n",
              "      <td>NaN</td>\n",
              "      <td>NaN</td>\n",
              "      <td>NaN</td>\n",
              "      <td>NaN</td>\n",
              "      <td>NaN</td>\n",
              "      <td>NaN</td>\n",
              "      <td>1974-06-08</td>\n",
              "      <td>Austria</td>\n",
              "      <td>Italy</td>\n",
              "      <td>0.0</td>\n",
              "      <td>0.0</td>\n",
              "      <td>Friendly</td>\n",
              "      <td>Vienna</td>\n",
              "      <td>False</td>\n",
              "    </tr>\n",
              "    <tr>\n",
              "      <th>32554</th>\n",
              "      <td>41.0</td>\n",
              "      <td>Republic of Ireland</td>\n",
              "      <td>0.00</td>\n",
              "      <td>637.0</td>\n",
              "      <td>1.0</td>\n",
              "      <td>0.0</td>\n",
              "      <td>0.0</td>\n",
              "      <td>0.00</td>\n",
              "      <td>0.00</td>\n",
              "      <td>0.00</td>\n",
              "      <td>0.00</td>\n",
              "      <td>0.00</td>\n",
              "      <td>0.00</td>\n",
              "      <td>UEFA</td>\n",
              "      <td>NaN</td>\n",
              "      <td>NaN</td>\n",
              "      <td>NaN</td>\n",
              "      <td>NaN</td>\n",
              "      <td>NaN</td>\n",
              "      <td>NaN</td>\n",
              "      <td>NaN</td>\n",
              "      <td>NaN</td>\n",
              "    </tr>\n",
              "    <tr>\n",
              "      <th>43307</th>\n",
              "      <td>9.0</td>\n",
              "      <td>Colombia</td>\n",
              "      <td>1101.79</td>\n",
              "      <td>843.0</td>\n",
              "      <td>13.0</td>\n",
              "      <td>735.6</td>\n",
              "      <td>735.6</td>\n",
              "      <td>397.71</td>\n",
              "      <td>198.86</td>\n",
              "      <td>296.25</td>\n",
              "      <td>88.87</td>\n",
              "      <td>392.29</td>\n",
              "      <td>78.46</td>\n",
              "      <td>CONMEBOL</td>\n",
              "      <td>NaN</td>\n",
              "      <td>NaN</td>\n",
              "      <td>NaN</td>\n",
              "      <td>NaN</td>\n",
              "      <td>NaN</td>\n",
              "      <td>NaN</td>\n",
              "      <td>NaN</td>\n",
              "      <td>NaN</td>\n",
              "    </tr>\n",
              "  </tbody>\n",
              "</table>\n",
              "</div>"
            ],
            "text/plain": [
              "        rank              country  ...    city  neutral\n",
              "16232  112.0               Panama  ...     NaN      NaN\n",
              "689      NaN              Belgium  ...  Forest    False\n",
              "36762    NaN             Bulgaria  ...   Sofia    False\n",
              "31395  124.0             Barbados  ...     NaN      NaN\n",
              "9001     NaN              Austria  ...  Vienna    False\n",
              "32554   41.0  Republic of Ireland  ...     NaN      NaN\n",
              "43307    9.0             Colombia  ...     NaN      NaN\n",
              "\n",
              "[7 rows x 22 columns]"
            ]
          },
          "metadata": {
            "tags": []
          },
          "execution_count": 359
        }
      ]
    },
    {
      "cell_type": "code",
      "metadata": {
        "id": "5OS9VHxJlC-T",
        "colab_type": "code",
        "colab": {
          "base_uri": "https://localhost:8080/",
          "height": 0
        },
        "outputId": "32156d22-5933-42b4-980b-62d08c22ba8b"
      },
      "source": [
        "# checking datatypes\n",
        "df.info()"
      ],
      "execution_count": 360,
      "outputs": [
        {
          "output_type": "stream",
          "text": [
            "<class 'pandas.core.frame.DataFrame'>\n",
            "Int64Index: 95228 entries, 0 to 40838\n",
            "Data columns (total 22 columns):\n",
            " #   Column                   Non-Null Count  Dtype  \n",
            "---  ------                   --------------  -----  \n",
            " 0   rank                     54389 non-null  float64\n",
            " 1   country                  95228 non-null  object \n",
            " 2   total_points             54389 non-null  float64\n",
            " 3   previous_points          54389 non-null  float64\n",
            " 4   rank_change              54389 non-null  float64\n",
            " 5   cur_year_avg             54389 non-null  float64\n",
            " 6   cur_year_avg_weighted    54389 non-null  float64\n",
            " 7   last_year_avg            54389 non-null  float64\n",
            " 8   last_year_avg_weighted   54389 non-null  float64\n",
            " 9   two_year_ago_avg         54389 non-null  float64\n",
            " 10  two_year_ago_weighted    54389 non-null  float64\n",
            " 11  three_year_ago_avg       54389 non-null  float64\n",
            " 12  three_year_ago_weighted  54389 non-null  float64\n",
            " 13  confederation            54389 non-null  object \n",
            " 14  date                     40839 non-null  object \n",
            " 15  home_team                40839 non-null  object \n",
            " 16  away_team                40839 non-null  object \n",
            " 17  home_score               40839 non-null  float64\n",
            " 18  away_score               40839 non-null  float64\n",
            " 19  tournament               40839 non-null  object \n",
            " 20  city                     40839 non-null  object \n",
            " 21  neutral                  40839 non-null  object \n",
            "dtypes: float64(14), object(8)\n",
            "memory usage: 16.7+ MB\n"
          ],
          "name": "stdout"
        }
      ]
    },
    {
      "cell_type": "code",
      "metadata": {
        "id": "NOqLa3VZ1PgW",
        "colab_type": "code",
        "colab": {
          "base_uri": "https://localhost:8080/",
          "height": 0
        },
        "outputId": "8107eaf1-96fc-4886-ea25-8f678929b844"
      },
      "source": [
        "# checking for duplicates\n",
        "df.duplicated().any()"
      ],
      "execution_count": 361,
      "outputs": [
        {
          "output_type": "execute_result",
          "data": {
            "text/plain": [
              "False"
            ]
          },
          "metadata": {
            "tags": []
          },
          "execution_count": 361
        }
      ]
    },
    {
      "cell_type": "code",
      "metadata": {
        "id": "zY3DyTcj1WNE",
        "colab_type": "code",
        "colab": {}
      },
      "source": [
        "# drop all duplicates\n",
        "df.drop_duplicates(inplace=True)"
      ],
      "execution_count": 362,
      "outputs": []
    },
    {
      "cell_type": "code",
      "metadata": {
        "id": "fZvsDbI61Xp5",
        "colab_type": "code",
        "colab": {
          "base_uri": "https://localhost:8080/",
          "height": 0
        },
        "outputId": "b9edc9d1-0968-4489-fb32-eb56668f4516"
      },
      "source": [
        "df.duplicated().sum()"
      ],
      "execution_count": 363,
      "outputs": [
        {
          "output_type": "execute_result",
          "data": {
            "text/plain": [
              "0"
            ]
          },
          "metadata": {
            "tags": []
          },
          "execution_count": 363
        }
      ]
    },
    {
      "cell_type": "code",
      "metadata": {
        "id": "zOopSS1lkWOo",
        "colab_type": "code",
        "colab": {
          "base_uri": "https://localhost:8080/",
          "height": 0
        },
        "outputId": "7fce8766-1792-4454-bf1d-26bba6e682e9"
      },
      "source": [
        "# checking for null values\n",
        "df.isnull().any()"
      ],
      "execution_count": 364,
      "outputs": [
        {
          "output_type": "execute_result",
          "data": {
            "text/plain": [
              "rank                        True\n",
              "country                    False\n",
              "total_points                True\n",
              "previous_points             True\n",
              "rank_change                 True\n",
              "cur_year_avg                True\n",
              "cur_year_avg_weighted       True\n",
              "last_year_avg               True\n",
              "last_year_avg_weighted      True\n",
              "two_year_ago_avg            True\n",
              "two_year_ago_weighted       True\n",
              "three_year_ago_avg          True\n",
              "three_year_ago_weighted     True\n",
              "confederation               True\n",
              "date                        True\n",
              "home_team                   True\n",
              "away_team                   True\n",
              "home_score                  True\n",
              "away_score                  True\n",
              "tournament                  True\n",
              "city                        True\n",
              "neutral                     True\n",
              "dtype: bool"
            ]
          },
          "metadata": {
            "tags": []
          },
          "execution_count": 364
        }
      ]
    },
    {
      "cell_type": "code",
      "metadata": {
        "id": "vZQEBG5OoHB0",
        "colab_type": "code",
        "colab": {}
      },
      "source": [
        "# filling null values with zero\n",
        "df.fillna(0, inplace=True)"
      ],
      "execution_count": 365,
      "outputs": []
    },
    {
      "cell_type": "code",
      "metadata": {
        "id": "_saAQwadoRjM",
        "colab_type": "code",
        "colab": {
          "base_uri": "https://localhost:8080/",
          "height": 0
        },
        "outputId": "1a12198c-524f-410d-e518-97ed2e8bddc9"
      },
      "source": [
        "# Dealing with the Missing Data\n",
        "df.isnull().sum()"
      ],
      "execution_count": 366,
      "outputs": [
        {
          "output_type": "execute_result",
          "data": {
            "text/plain": [
              "rank                       0\n",
              "country                    0\n",
              "total_points               0\n",
              "previous_points            0\n",
              "rank_change                0\n",
              "cur_year_avg               0\n",
              "cur_year_avg_weighted      0\n",
              "last_year_avg              0\n",
              "last_year_avg_weighted     0\n",
              "two_year_ago_avg           0\n",
              "two_year_ago_weighted      0\n",
              "three_year_ago_avg         0\n",
              "three_year_ago_weighted    0\n",
              "confederation              0\n",
              "date                       0\n",
              "home_team                  0\n",
              "away_team                  0\n",
              "home_score                 0\n",
              "away_score                 0\n",
              "tournament                 0\n",
              "city                       0\n",
              "neutral                    0\n",
              "dtype: int64"
            ]
          },
          "metadata": {
            "tags": []
          },
          "execution_count": 366
        }
      ]
    },
    {
      "cell_type": "code",
      "metadata": {
        "id": "1_oMmRFO1p5u",
        "colab_type": "code",
        "colab": {
          "base_uri": "https://localhost:8080/",
          "height": 0
        },
        "outputId": "4df838cf-f068-4ce9-85de-03cf1328dd05"
      },
      "source": [
        "# dealing with outliers\n",
        "# quantiles\n",
        "Q1 = df.quantile(0.25)\n",
        "Q3 = df.quantile(0.75)\n",
        "IQR = Q3 - Q1\n",
        "\n",
        "# Removing outliers based on the IQR range and stores the result in the data frame 'df_out'\n",
        "# ---\n",
        "# \n",
        "df1 = df[~((df < (Q1 - 1.5 * IQR)) | (df > (Q3 + 1.5 * IQR))).any(axis=1)]\n",
        "\n",
        "# Printing the shape of our new dataset\n",
        "# ---\n",
        "# \n",
        "print(df1.shape)\n",
        "\n",
        "# Printing the shape of our old dataset\n",
        "# ---\n",
        "#\n",
        "print(df.shape)"
      ],
      "execution_count": 367,
      "outputs": [
        {
          "output_type": "stream",
          "text": [
            "(34520, 22)\n",
            "(95228, 22)\n"
          ],
          "name": "stdout"
        }
      ]
    },
    {
      "cell_type": "code",
      "metadata": {
        "id": "UpTacWnIBBvN",
        "colab_type": "code",
        "colab": {
          "base_uri": "https://localhost:8080/",
          "height": 0
        },
        "outputId": "e0c6a32f-21e9-43bf-ef7d-c928c0221f89"
      },
      "source": [
        "# top football confederations\n",
        "print('Total number of confederations: {0}'.format(df1['confederation'].nunique()))\n",
        "print(df1['confederation'].value_counts().head(10))\n",
        "print('--'*40)"
      ],
      "execution_count": 368,
      "outputs": [
        {
          "output_type": "stream",
          "text": [
            "Total number of confederations: 7\n",
            "0           26356\n",
            "CAF          2054\n",
            "UEFA         2035\n",
            "AFC          1759\n",
            "CONCACAF     1434\n",
            "OFC           470\n",
            "CONMEBOL      412\n",
            "Name: confederation, dtype: int64\n",
            "--------------------------------------------------------------------------------\n"
          ],
          "name": "stdout"
        }
      ]
    },
    {
      "cell_type": "markdown",
      "metadata": {
        "id": "WEw9SgXM2eke",
        "colab_type": "text"
      },
      "source": [
        "# **EXPLORATORY DATA ANALYSIS**"
      ]
    },
    {
      "cell_type": "markdown",
      "metadata": {
        "id": "1qAT97ln2mNH",
        "colab_type": "text"
      },
      "source": [
        "## **Univariate analysis**"
      ]
    },
    {
      "cell_type": "code",
      "metadata": {
        "id": "DccLMXoP3OHY",
        "colab_type": "code",
        "colab": {
          "base_uri": "https://localhost:8080/",
          "height": 318
        },
        "outputId": "45c50eb5-069d-4eb0-bc75-fb87f1322271"
      },
      "source": [
        "#Histogram of the ome scores of different countries\n",
        "ax = sns.countplot(df1['home_score'], order = df1['home_score'].value_counts().index)\n",
        "plt.title('Distribution of countries per their homescores')"
      ],
      "execution_count": 369,
      "outputs": [
        {
          "output_type": "execute_result",
          "data": {
            "text/plain": [
              "Text(0.5, 1.0, 'Distribution of countries per their homescores')"
            ]
          },
          "metadata": {
            "tags": []
          },
          "execution_count": 369
        },
        {
          "output_type": "display_data",
          "data": {
            "image/png": "[encoded data removed]",
            "text/plain": [
              "<Figure size 432x288 with 1 Axes>"
            ]
          },
          "metadata": {
            "tags": [],
            "needs_background": "light"
          }
        }
      ]
    },
    {
      "cell_type": "code",
      "metadata": {
        "id": "iHoYaC1lFj7R",
        "colab_type": "code",
        "colab": {
          "base_uri": "https://localhost:8080/",
          "height": 0
        },
        "outputId": "c2dc41c5-4c38-4283-e7ac-2146c632c1bf"
      },
      "source": [
        "## boxplot\n",
        "sns.boxplot(df1['home_score'], showmeans=True)"
      ],
      "execution_count": 370,
      "outputs": [
        {
          "output_type": "execute_result",
          "data": {
            "text/plain": [
              "<matplotlib.axes._subplots.AxesSubplot at 0x7fd8abc86fd0>"
            ]
          },
          "metadata": {
            "tags": []
          },
          "execution_count": 370
        },
        {
          "output_type": "display_data",
          "data": {
            "image/png": "[encoded data removed]",
            "text/plain": [
              "<Figure size 432x288 with 1 Axes>"
            ]
          },
          "metadata": {
            "tags": [],
            "needs_background": "light"
          }
        }
      ]
    },
    {
      "cell_type": "code",
      "metadata": {
        "id": "q4-LqhHBFo91",
        "colab_type": "code",
        "colab": {
          "base_uri": "https://localhost:8080/",
          "height": 0
        },
        "outputId": "b9971619-9549-4fa2-97e3-c9c99ffb2472"
      },
      "source": [
        "sns.boxplot(df1['away_score'], showmeans=True)"
      ],
      "execution_count": 371,
      "outputs": [
        {
          "output_type": "execute_result",
          "data": {
            "text/plain": [
              "<matplotlib.axes._subplots.AxesSubplot at 0x7fd8abca6da0>"
            ]
          },
          "metadata": {
            "tags": []
          },
          "execution_count": 371
        },
        {
          "output_type": "display_data",
          "data": {
            "image/png": "[encoded data removed]",
            "text/plain": [
              "<Figure size 432x288 with 1 Axes>"
            ]
          },
          "metadata": {
            "tags": [],
            "needs_background": "light"
          }
        }
      ]
    },
    {
      "cell_type": "code",
      "metadata": {
        "id": "-ERMANldFtqS",
        "colab_type": "code",
        "colab": {
          "base_uri": "https://localhost:8080/",
          "height": 0
        },
        "outputId": "3592c9ec-8e66-40a3-8ff3-36a623173425"
      },
      "source": [
        "df1['away_score'].value_counts().sort_index().plot.bar()"
      ],
      "execution_count": 372,
      "outputs": [
        {
          "output_type": "execute_result",
          "data": {
            "text/plain": [
              "<matplotlib.axes._subplots.AxesSubplot at 0x7fd8ab80a5f8>"
            ]
          },
          "metadata": {
            "tags": []
          },
          "execution_count": 372
        },
        {
          "output_type": "display_data",
          "data": {
            "image/png": "[encoded data removed]",
            "text/plain": [
              "<Figure size 432x288 with 1 Axes>"
            ]
          },
          "metadata": {
            "tags": [],
            "needs_background": "light"
          }
        }
      ]
    },
    {
      "cell_type": "code",
      "metadata": {
        "id": "xnF6Jqm8FcY_",
        "colab_type": "code",
        "colab": {
          "base_uri": "https://localhost:8080/",
          "height": 0
        },
        "outputId": "8cf06e6f-9db6-48e0-86a5-024123f44fdd"
      },
      "source": [
        "df1['home_score'].value_counts().sort_index().plot.bar()"
      ],
      "execution_count": 373,
      "outputs": [
        {
          "output_type": "execute_result",
          "data": {
            "text/plain": [
              "<matplotlib.axes._subplots.AxesSubplot at 0x7fd8ab9789e8>"
            ]
          },
          "metadata": {
            "tags": []
          },
          "execution_count": 373
        },
        {
          "output_type": "display_data",
          "data": {
            "image/png": "[encoded data removed]",
            "text/plain": [
              "<Figure size 432x288 with 1 Axes>"
            ]
          },
          "metadata": {
            "tags": [],
            "needs_background": "light"
          }
        }
      ]
    },
    {
      "cell_type": "code",
      "metadata": {
        "id": "ftnITM0A689J",
        "colab_type": "code",
        "colab": {
          "base_uri": "https://localhost:8080/",
          "height": 0
        },
        "outputId": "a9bf1a1e-9d71-4605-c01d-bc444f2f1022"
      },
      "source": [
        "print(df1.skew())"
      ],
      "execution_count": 374,
      "outputs": [
        {
          "output_type": "stream",
          "text": [
            "rank                       2.033130\n",
            "total_points               0.000000\n",
            "previous_points            2.654479\n",
            "rank_change                0.000000\n",
            "cur_year_avg               0.000000\n",
            "cur_year_avg_weighted      0.000000\n",
            "last_year_avg              0.000000\n",
            "last_year_avg_weighted     0.000000\n",
            "two_year_ago_avg           0.000000\n",
            "two_year_ago_weighted      0.000000\n",
            "three_year_ago_avg         0.000000\n",
            "three_year_ago_weighted    0.000000\n",
            "home_score                 0.454146\n",
            "away_score                 0.761499\n",
            "neutral                    1.599769\n",
            "dtype: float64\n"
          ],
          "name": "stdout"
        }
      ]
    },
    {
      "cell_type": "code",
      "metadata": {
        "id": "Uzh0rrTj7JON",
        "colab_type": "code",
        "colab": {
          "base_uri": "https://localhost:8080/",
          "height": 0
        },
        "outputId": "cbd14866-09ca-409f-f853-2a9397d0f4c7"
      },
      "source": [
        "print(df1.kurt())"
      ],
      "execution_count": 375,
      "outputs": [
        {
          "output_type": "stream",
          "text": [
            "rank                       2.643261\n",
            "total_points               0.000000\n",
            "previous_points            6.012138\n",
            "rank_change                0.000000\n",
            "cur_year_avg               0.000000\n",
            "cur_year_avg_weighted      0.000000\n",
            "last_year_avg              0.000000\n",
            "last_year_avg_weighted     0.000000\n",
            "two_year_ago_avg           0.000000\n",
            "two_year_ago_weighted      0.000000\n",
            "three_year_ago_avg         0.000000\n",
            "three_year_ago_weighted    0.000000\n",
            "home_score                -1.304573\n",
            "away_score                -0.833384\n",
            "neutral                    0.559292\n",
            "dtype: float64\n"
          ],
          "name": "stdout"
        }
      ]
    },
    {
      "cell_type": "code",
      "metadata": {
        "id": "yOZluE237UaM",
        "colab_type": "code",
        "colab": {
          "base_uri": "https://localhost:8080/",
          "height": 0
        },
        "outputId": "526a6c2a-65e5-490e-f811-0b356f6b9277"
      },
      "source": [
        "df1.columns"
      ],
      "execution_count": 376,
      "outputs": [
        {
          "output_type": "execute_result",
          "data": {
            "text/plain": [
              "Index(['rank', 'country', 'total_points', 'previous_points', 'rank_change',\n",
              "       'cur_year_avg', 'cur_year_avg_weighted', 'last_year_avg',\n",
              "       'last_year_avg_weighted', 'two_year_ago_avg', 'two_year_ago_weighted',\n",
              "       'three_year_ago_avg', 'three_year_ago_weighted', 'confederation',\n",
              "       'date', 'home_team', 'away_team', 'home_score', 'away_score',\n",
              "       'tournament', 'city', 'neutral'],\n",
              "      dtype='object')"
            ]
          },
          "metadata": {
            "tags": []
          },
          "execution_count": 376
        }
      ]
    },
    {
      "cell_type": "code",
      "metadata": {
        "id": "yBCH252_7Qh2",
        "colab_type": "code",
        "colab": {}
      },
      "source": [
        "to_drop = ['rank_change',\n",
        "       'cur_year_avg', 'cur_year_avg_weighted', 'last_year_avg',\n",
        "       'last_year_avg_weighted', 'two_year_ago_avg', 'two_year_ago_weighted',\n",
        "       'three_year_ago_avg', 'three_year_ago_weighted']\n",
        "df1.drop(to_drop, axis=1, inplace=True)"
      ],
      "execution_count": 377,
      "outputs": []
    },
    {
      "cell_type": "code",
      "metadata": {
        "id": "SkXztTZO8UMA",
        "colab_type": "code",
        "colab": {
          "base_uri": "https://localhost:8080/",
          "height": 0
        },
        "outputId": "12d28d8b-7e94-4faa-9bd2-9d5cdbe2a88f"
      },
      "source": [
        "df1.shape"
      ],
      "execution_count": 378,
      "outputs": [
        {
          "output_type": "execute_result",
          "data": {
            "text/plain": [
              "(34520, 13)"
            ]
          },
          "metadata": {
            "tags": []
          },
          "execution_count": 378
        }
      ]
    },
    {
      "cell_type": "markdown",
      "metadata": {
        "colab_type": "text",
        "id": "Aie_Oar22uro"
      },
      "source": [
        "## **Bivariate analysis**"
      ]
    },
    {
      "cell_type": "code",
      "metadata": {
        "id": "W3rNxiXI83aX",
        "colab_type": "code",
        "colab": {
          "base_uri": "https://localhost:8080/",
          "height": 0
        },
        "outputId": "13e2b365-7a35-4c65-cda1-575cefdb796b"
      },
      "source": [
        "# Ploting the bivariate summaries and recording our observations\n",
        "# scatterplot\n",
        "sns.pairplot(df1)\n",
        "plt.show()"
      ],
      "execution_count": 379,
      "outputs": [
        {
          "output_type": "display_data",
          "data": {
            "image/png": "[encoded data removed]",
            "text/plain": [
              "<Figure size 1080x1080 with 42 Axes>"
            ]
          },
          "metadata": {
            "tags": [],
            "needs_background": "light"
          }
        }
      ]
    },
    {
      "cell_type": "code",
      "metadata": {
        "id": "KAQCvNZNF5jx",
        "colab_type": "code",
        "colab": {
          "base_uri": "https://localhost:8080/",
          "height": 0
        },
        "outputId": "b9b1e6f1-14c9-4f0f-f41c-a8d9d1abcaa1"
      },
      "source": [
        "# Calculating the pearson coefficient\n",
        "pearson_coeff = df1[\"home_score\"].corr(df1[\"away_score\"], method=\"pearson\") \n",
        "print(pearson_coeff)\n",
        "\n",
        "# Checking whether you have to define the pearson\n",
        "coeff = df1[\"home_score\"].corr(df1[\"away_score\"])\n",
        "print(coeff)"
      ],
      "execution_count": 380,
      "outputs": [
        {
          "output_type": "stream",
          "text": [
            "0.23873779888274616\n",
            "0.23873779888274616\n"
          ],
          "name": "stdout"
        }
      ]
    },
    {
      "cell_type": "code",
      "metadata": {
        "id": "zwTAfyEZ8-Wf",
        "colab_type": "code",
        "colab": {
          "base_uri": "https://localhost:8080/",
          "height": 0
        },
        "outputId": "c7f6318e-94c3-49d1-9adb-ac06519e4b03"
      },
      "source": [
        "# heatmap\n",
        "sns.heatmap(df1.corr(),annot=True)\n",
        "plt.show()"
      ],
      "execution_count": 381,
      "outputs": [
        {
          "output_type": "display_data",
          "data": {
            "image/png": "[encoded data removed]",
            "text/plain": [
              "<Figure size 432x288 with 2 Axes>"
            ]
          },
          "metadata": {
            "tags": [],
            "needs_background": "light"
          }
        }
      ]
    },
    {
      "cell_type": "code",
      "metadata": {
        "id": "2Sezs3IrD4S6",
        "colab_type": "code",
        "colab": {
          "base_uri": "https://localhost:8080/",
          "height": 0
        },
        "outputId": "7ab317a9-406e-460f-acc8-aa4ff74d0663"
      },
      "source": [
        "df1.sample(6)"
      ],
      "execution_count": 382,
      "outputs": [
        {
          "output_type": "execute_result",
          "data": {
            "text/html": [
              "<div>\n",
              "<style scoped>\n",
              "    .dataframe tbody tr th:only-of-type {\n",
              "        vertical-align: middle;\n",
              "    }\n",
              "\n",
              "    .dataframe tbody tr th {\n",
              "        vertical-align: top;\n",
              "    }\n",
              "\n",
              "    .dataframe thead th {\n",
              "        text-align: right;\n",
              "    }\n",
              "</style>\n",
              "<table border=\"1\" class=\"dataframe\">\n",
              "  <thead>\n",
              "    <tr style=\"text-align: right;\">\n",
              "      <th></th>\n",
              "      <th>rank</th>\n",
              "      <th>country</th>\n",
              "      <th>total_points</th>\n",
              "      <th>previous_points</th>\n",
              "      <th>confederation</th>\n",
              "      <th>date</th>\n",
              "      <th>home_team</th>\n",
              "      <th>away_team</th>\n",
              "      <th>home_score</th>\n",
              "      <th>away_score</th>\n",
              "      <th>tournament</th>\n",
              "      <th>city</th>\n",
              "      <th>neutral</th>\n",
              "    </tr>\n",
              "  </thead>\n",
              "  <tbody>\n",
              "    <tr>\n",
              "      <th>11437</th>\n",
              "      <td>0.0</td>\n",
              "      <td>Argentina</td>\n",
              "      <td>0.0</td>\n",
              "      <td>0.0</td>\n",
              "      <td>0</td>\n",
              "      <td>1980-10-15</td>\n",
              "      <td>Argentina</td>\n",
              "      <td>Czechoslovakia</td>\n",
              "      <td>1.0</td>\n",
              "      <td>0.0</td>\n",
              "      <td>Friendly</td>\n",
              "      <td>Buenos Aires</td>\n",
              "      <td>False</td>\n",
              "    </tr>\n",
              "    <tr>\n",
              "      <th>15432</th>\n",
              "      <td>0.0</td>\n",
              "      <td>Barbados</td>\n",
              "      <td>0.0</td>\n",
              "      <td>0.0</td>\n",
              "      <td>0</td>\n",
              "      <td>1989-04-14</td>\n",
              "      <td>Barbados</td>\n",
              "      <td>Bermuda</td>\n",
              "      <td>2.0</td>\n",
              "      <td>1.0</td>\n",
              "      <td>Friendly</td>\n",
              "      <td>Bridgetown</td>\n",
              "      <td>False</td>\n",
              "    </tr>\n",
              "    <tr>\n",
              "      <th>36137</th>\n",
              "      <td>0.0</td>\n",
              "      <td>Rwanda</td>\n",
              "      <td>0.0</td>\n",
              "      <td>0.0</td>\n",
              "      <td>0</td>\n",
              "      <td>2014-07-12</td>\n",
              "      <td>Rwanda</td>\n",
              "      <td>Gabon</td>\n",
              "      <td>1.0</td>\n",
              "      <td>0.0</td>\n",
              "      <td>Friendly</td>\n",
              "      <td>Kigali</td>\n",
              "      <td>False</td>\n",
              "    </tr>\n",
              "    <tr>\n",
              "      <th>21106</th>\n",
              "      <td>0.0</td>\n",
              "      <td>Antigua and Barbuda</td>\n",
              "      <td>0.0</td>\n",
              "      <td>0.0</td>\n",
              "      <td>0</td>\n",
              "      <td>1998-02-22</td>\n",
              "      <td>Antigua and Barbuda</td>\n",
              "      <td>Dominica</td>\n",
              "      <td>1.0</td>\n",
              "      <td>1.0</td>\n",
              "      <td>Friendly</td>\n",
              "      <td>St. John's</td>\n",
              "      <td>False</td>\n",
              "    </tr>\n",
              "    <tr>\n",
              "      <th>14990</th>\n",
              "      <td>88.0</td>\n",
              "      <td>Senegal</td>\n",
              "      <td>0.0</td>\n",
              "      <td>451.0</td>\n",
              "      <td>CAF</td>\n",
              "      <td>0</td>\n",
              "      <td>0</td>\n",
              "      <td>0</td>\n",
              "      <td>0.0</td>\n",
              "      <td>0.0</td>\n",
              "      <td>0</td>\n",
              "      <td>0</td>\n",
              "      <td>0</td>\n",
              "    </tr>\n",
              "    <tr>\n",
              "      <th>39913</th>\n",
              "      <td>0.0</td>\n",
              "      <td>Russia</td>\n",
              "      <td>0.0</td>\n",
              "      <td>0.0</td>\n",
              "      <td>0</td>\n",
              "      <td>2018-07-01</td>\n",
              "      <td>Croatia</td>\n",
              "      <td>Denmark</td>\n",
              "      <td>1.0</td>\n",
              "      <td>1.0</td>\n",
              "      <td>FIFA World Cup</td>\n",
              "      <td>Nizhny Novgorod</td>\n",
              "      <td>True</td>\n",
              "    </tr>\n",
              "  </tbody>\n",
              "</table>\n",
              "</div>"
            ],
            "text/plain": [
              "       rank              country  ...             city  neutral\n",
              "11437   0.0            Argentina  ...     Buenos Aires    False\n",
              "15432   0.0             Barbados  ...       Bridgetown    False\n",
              "36137   0.0               Rwanda  ...           Kigali    False\n",
              "21106   0.0  Antigua and Barbuda  ...       St. John's    False\n",
              "14990  88.0              Senegal  ...                0        0\n",
              "39913   0.0               Russia  ...  Nizhny Novgorod     True\n",
              "\n",
              "[6 rows x 13 columns]"
            ]
          },
          "metadata": {
            "tags": []
          },
          "execution_count": 382
        }
      ]
    },
    {
      "cell_type": "code",
      "metadata": {
        "id": "foq27DKx9LM8",
        "colab_type": "code",
        "colab": {
          "base_uri": "https://localhost:8080/",
          "height": 0
        },
        "outputId": "53dc1072-05a6-49e0-85dd-a50c2bf16f9b"
      },
      "source": [
        "df1.info()"
      ],
      "execution_count": 383,
      "outputs": [
        {
          "output_type": "stream",
          "text": [
            "<class 'pandas.core.frame.DataFrame'>\n",
            "Int64Index: 34520 entries, 0 to 40838\n",
            "Data columns (total 13 columns):\n",
            " #   Column           Non-Null Count  Dtype  \n",
            "---  ------           --------------  -----  \n",
            " 0   rank             34520 non-null  float64\n",
            " 1   country          34520 non-null  object \n",
            " 2   total_points     34520 non-null  float64\n",
            " 3   previous_points  34520 non-null  float64\n",
            " 4   confederation    34520 non-null  object \n",
            " 5   date             34520 non-null  object \n",
            " 6   home_team        34520 non-null  object \n",
            " 7   away_team        34520 non-null  object \n",
            " 8   home_score       34520 non-null  float64\n",
            " 9   away_score       34520 non-null  float64\n",
            " 10  tournament       34520 non-null  object \n",
            " 11  city             34520 non-null  object \n",
            " 12  neutral          34520 non-null  object \n",
            "dtypes: float64(5), object(8)\n",
            "memory usage: 4.9+ MB\n"
          ],
          "name": "stdout"
        }
      ]
    },
    {
      "cell_type": "code",
      "metadata": {
        "id": "xuVirEBJ-89w",
        "colab_type": "code",
        "colab": {
          "base_uri": "https://localhost:8080/",
          "height": 0
        },
        "outputId": "f1407c3f-9186-4836-f238-49d0aaf9141e"
      },
      "source": [
        "df1['home_score'].corr(df1['away_score'])"
      ],
      "execution_count": 384,
      "outputs": [
        {
          "output_type": "execute_result",
          "data": {
            "text/plain": [
              "0.23873779888274616"
            ]
          },
          "metadata": {
            "tags": []
          },
          "execution_count": 384
        }
      ]
    },
    {
      "cell_type": "code",
      "metadata": {
        "id": "lfXugOYm-iH-",
        "colab_type": "code",
        "colab": {
          "base_uri": "https://localhost:8080/",
          "height": 0
        },
        "outputId": "d7c4914d-4502-488a-892c-7abed7678965"
      },
      "source": [
        "# Determine correlation between numeric features\n",
        "plt.figure(figsize=(12,10))\n",
        "sns.pairplot(df1[['home_score','away_score']])\n",
        "plt.title('home_score vs away_score')"
      ],
      "execution_count": 385,
      "outputs": [
        {
          "output_type": "execute_result",
          "data": {
            "text/plain": [
              "Text(0.5, 1.0, 'home_score vs away_score')"
            ]
          },
          "metadata": {
            "tags": []
          },
          "execution_count": 385
        },
        {
          "output_type": "display_data",
          "data": {
            "text/plain": [
              "<Figure size 864x720 with 0 Axes>"
            ]
          },
          "metadata": {
            "tags": []
          }
        },
        {
          "output_type": "display_data",
          "data": {
            "image/png": "[encoded data removed]",
            "text/plain": [
              "<Figure size 360x360 with 6 Axes>"
            ]
          },
          "metadata": {
            "tags": [],
            "needs_background": "light"
          }
        }
      ]
    },
    {
      "cell_type": "markdown",
      "metadata": {
        "colab_type": "text",
        "id": "dHq4zyLq2u6t"
      },
      "source": [
        "## **Multivariate analysis**"
      ]
    },
    {
      "cell_type": "markdown",
      "metadata": {
        "id": "XTM05rkPG3oE",
        "colab_type": "text"
      },
      "source": [
        "### **Factor analysis**"
      ]
    },
    {
      "cell_type": "code",
      "metadata": {
        "id": "9vUWQo53-bL8",
        "colab_type": "code",
        "colab": {
          "base_uri": "https://localhost:8080/",
          "height": 0
        },
        "outputId": "11903afa-8281-4ec8-e1b2-65826d8f6d28"
      },
      "source": [
        "# Installing factor analyzer \n",
        "!pip install factor_analyzer==0.2.3\n",
        "from factor_analyzer.factor_analyzer import calculate_bartlett_sphericity\n",
        "chi_square_value,p_value=calculate_bartlett_sphericity(df)\n",
        "chi_square_value, p_value\n",
        "\n",
        "#The p vlaue is 0 the observed matrix is not an identity matrix."
      ],
      "execution_count": 386,
      "outputs": [
        {
          "output_type": "stream",
          "text": [
            "Requirement already satisfied: factor_analyzer==0.2.3 in /usr/local/lib/python3.6/dist-packages (0.2.3)\n",
            "Requirement already satisfied: pandas in /usr/local/lib/python3.6/dist-packages (from factor_analyzer==0.2.3) (1.0.5)\n",
            "Requirement already satisfied: scipy in /usr/local/lib/python3.6/dist-packages (from factor_analyzer==0.2.3) (1.4.1)\n",
            "Requirement already satisfied: numpy in /usr/local/lib/python3.6/dist-packages (from factor_analyzer==0.2.3) (1.18.5)\n",
            "Requirement already satisfied: python-dateutil>=2.6.1 in /usr/local/lib/python3.6/dist-packages (from pandas->factor_analyzer==0.2.3) (2.8.1)\n",
            "Requirement already satisfied: pytz>=2017.2 in /usr/local/lib/python3.6/dist-packages (from pandas->factor_analyzer==0.2.3) (2018.9)\n",
            "Requirement already satisfied: six>=1.5 in /usr/local/lib/python3.6/dist-packages (from python-dateutil>=2.6.1->pandas->factor_analyzer==0.2.3) (1.15.0)\n"
          ],
          "name": "stdout"
        },
        {
          "output_type": "execute_result",
          "data": {
            "text/plain": [
              "(12997144.610679293, 0.0)"
            ]
          },
          "metadata": {
            "tags": []
          },
          "execution_count": 386
        }
      ]
    },
    {
      "cell_type": "markdown",
      "metadata": {
        "id": "ZU6IF-VoGtlk",
        "colab_type": "text"
      },
      "source": [
        "### **Principal component analysis**"
      ]
    },
    {
      "cell_type": "code",
      "metadata": {
        "id": "huDujxrsGd8v",
        "colab_type": "code",
        "colab": {}
      },
      "source": [
        "from sklearn.preprocessing import StandardScaler\n",
        "scaler = StandardScaler()\n",
        "scaler.fit(df1[['home_score','away_score']])\n",
        "scaled_data = scaler.transform(df1[['home_score','away_score']])"
      ],
      "execution_count": 387,
      "outputs": []
    },
    {
      "cell_type": "code",
      "metadata": {
        "id": "UGObt0qhGmve",
        "colab_type": "code",
        "colab": {}
      },
      "source": [
        "scaled_data = pd.DataFrame(scaled_data)"
      ],
      "execution_count": 388,
      "outputs": []
    },
    {
      "cell_type": "code",
      "metadata": {
        "id": "keOQvzf-GqRv",
        "colab_type": "code",
        "colab": {
          "base_uri": "https://localhost:8080/",
          "height": 0
        },
        "outputId": "187204fa-ed30-4809-a839-136913b13b0d"
      },
      "source": [
        "df2 = scaled_data.fillna(0)\n",
        "df2.head()"
      ],
      "execution_count": 389,
      "outputs": [
        {
          "output_type": "execute_result",
          "data": {
            "text/html": [
              "<div>\n",
              "<style scoped>\n",
              "    .dataframe tbody tr th:only-of-type {\n",
              "        vertical-align: middle;\n",
              "    }\n",
              "\n",
              "    .dataframe tbody tr th {\n",
              "        vertical-align: top;\n",
              "    }\n",
              "\n",
              "    .dataframe thead th {\n",
              "        text-align: right;\n",
              "    }\n",
              "</style>\n",
              "<table border=\"1\" class=\"dataframe\">\n",
              "  <thead>\n",
              "    <tr style=\"text-align: right;\">\n",
              "      <th></th>\n",
              "      <th>0</th>\n",
              "      <th>1</th>\n",
              "    </tr>\n",
              "  </thead>\n",
              "  <tbody>\n",
              "    <tr>\n",
              "      <th>0</th>\n",
              "      <td>-0.950755</td>\n",
              "      <td>-0.821526</td>\n",
              "    </tr>\n",
              "    <tr>\n",
              "      <th>1</th>\n",
              "      <td>-0.950755</td>\n",
              "      <td>-0.821526</td>\n",
              "    </tr>\n",
              "    <tr>\n",
              "      <th>2</th>\n",
              "      <td>-0.950755</td>\n",
              "      <td>-0.821526</td>\n",
              "    </tr>\n",
              "    <tr>\n",
              "      <th>3</th>\n",
              "      <td>-0.950755</td>\n",
              "      <td>-0.821526</td>\n",
              "    </tr>\n",
              "    <tr>\n",
              "      <th>4</th>\n",
              "      <td>-0.950755</td>\n",
              "      <td>-0.821526</td>\n",
              "    </tr>\n",
              "  </tbody>\n",
              "</table>\n",
              "</div>"
            ],
            "text/plain": [
              "          0         1\n",
              "0 -0.950755 -0.821526\n",
              "1 -0.950755 -0.821526\n",
              "2 -0.950755 -0.821526\n",
              "3 -0.950755 -0.821526\n",
              "4 -0.950755 -0.821526"
            ]
          },
          "metadata": {
            "tags": []
          },
          "execution_count": 389
        }
      ]
    },
    {
      "cell_type": "code",
      "metadata": {
        "id": "2duW4RdjHIfD",
        "colab_type": "code",
        "colab": {}
      },
      "source": [
        "from sklearn.decomposition import PCA\n",
        "logmodel = PCA(n_components=2)\n",
        "logmodel.fit(df2)\n",
        "pca_x = logmodel.transform(df2)"
      ],
      "execution_count": 390,
      "outputs": []
    },
    {
      "cell_type": "code",
      "metadata": {
        "id": "QjwXW7yTHNR5",
        "colab_type": "code",
        "colab": {
          "base_uri": "https://localhost:8080/",
          "height": 0
        },
        "outputId": "5980187a-1eb8-454c-eb43-8e430ba59157"
      },
      "source": [
        "pca_x.shape"
      ],
      "execution_count": 391,
      "outputs": [
        {
          "output_type": "execute_result",
          "data": {
            "text/plain": [
              "(34520, 2)"
            ]
          },
          "metadata": {
            "tags": []
          },
          "execution_count": 391
        }
      ]
    },
    {
      "cell_type": "code",
      "metadata": {
        "id": "igVS5Dv_HRYb",
        "colab_type": "code",
        "colab": {}
      },
      "source": [
        "df3 = pd.DataFrame(logmodel.components_, columns = ['home_score','away_score'])"
      ],
      "execution_count": 392,
      "outputs": []
    },
    {
      "cell_type": "code",
      "metadata": {
        "id": "k4eQ8yg1HWWF",
        "colab_type": "code",
        "colab": {
          "base_uri": "https://localhost:8080/",
          "height": 0
        },
        "outputId": "14719f4b-0a3e-4a24-8d15-e0f6610510fd"
      },
      "source": [
        "plt.figure(figsize=(10,6))\n",
        "sns.heatmap(df3)"
      ],
      "execution_count": 393,
      "outputs": [
        {
          "output_type": "execute_result",
          "data": {
            "text/plain": [
              "<matplotlib.axes._subplots.AxesSubplot at 0x7fd8a2c7e8d0>"
            ]
          },
          "metadata": {
            "tags": []
          },
          "execution_count": 393
        },
        {
          "output_type": "display_data",
          "data": {
            "image/png": "[encoded data removed]",
            "text/plain": [
              "<Figure size 720x432 with 2 Axes>"
            ]
          },
          "metadata": {
            "tags": [],
            "needs_background": "light"
          }
        }
      ]
    },
    {
      "cell_type": "code",
      "metadata": {
        "id": "CVRWrWjsHeDo",
        "colab_type": "code",
        "colab": {
          "base_uri": "https://localhost:8080/",
          "height": 0
        },
        "outputId": "1f4d99ef-4311-4fa6-ccf9-cad71c80132b"
      },
      "source": [
        "plt.figure(figsize=(10,6))\n",
        "ty=sns.scatterplot(pca_x[:,0], pca_x[:,1])\n",
        "sns.despine(left=True)\n",
        "ty.set_title('PCA Results')\n",
        "ty.set_ylabel('Second Principle Component ')\n",
        "ty.set_xlabel('First Principle Component ')"
      ],
      "execution_count": 394,
      "outputs": [
        {
          "output_type": "execute_result",
          "data": {
            "text/plain": [
              "Text(0.5, 0, 'First Principle Component ')"
            ]
          },
          "metadata": {
            "tags": []
          },
          "execution_count": 394
        },
        {
          "output_type": "display_data",
          "data": {
            "image/png": "[encoded data removed]",
            "text/plain": [
              "<Figure size 720x432 with 1 Axes>"
            ]
          },
          "metadata": {
            "tags": [],
            "needs_background": "light"
          }
        }
      ]
    },
    {
      "cell_type": "code",
      "metadata": {
        "id": "KZYQhRsTHjFc",
        "colab_type": "code",
        "colab": {
          "base_uri": "https://localhost:8080/",
          "height": 136
        },
        "outputId": "c6044f94-9582-45f6-ee59-8ba8ba192b2a"
      },
      "source": [
        "pca_x"
      ],
      "execution_count": 395,
      "outputs": [
        {
          "output_type": "execute_result",
          "data": {
            "text/plain": [
              "array([[-1.25319172,  0.0913784 ],\n",
              "       [-1.25319172,  0.0913784 ],\n",
              "       [-1.25319172,  0.0913784 ],\n",
              "       ...,\n",
              "       [-0.3083254 ,  1.03624472],\n",
              "       [-0.3083254 ,  1.03624472],\n",
              "       [ 0.57347718,  0.15444214]])"
            ]
          },
          "metadata": {
            "tags": []
          },
          "execution_count": 395
        }
      ]
    },
    {
      "cell_type": "markdown",
      "metadata": {
        "id": "eK4cFQIbNJnD",
        "colab_type": "text"
      },
      "source": [
        "# **Polynomial Regression Analysis**"
      ]
    },
    {
      "cell_type": "code",
      "metadata": {
        "id": "U7x5ot84VDvZ",
        "colab_type": "code",
        "colab": {}
      },
      "source": [
        "#Import libaries\n",
        "import datetime\n",
        "import operator\n",
        "import matplotlib.pyplot as plt\n",
        "from ipywidgets import interact\n",
        "from IPython.display import Markdown as md\n",
        "from datetime import date, timedelta, datetime\n",
        "from numpy import sqrt\n",
        "from pandas import read_csv, to_datetime\n",
        "from prettytable import PrettyTable\n",
        "from sklearn.metrics import mean_squared_error, r2_score\n",
        "from sklearn.preprocessing import PolynomialFeatures\n",
        "import numpy as np\n",
        "import pandas as pd\n",
        "import matplotlib.pyplot as plt\n",
        "from sklearn.model_selection import train_test_split\n",
        "\n",
        "# Import LinearRegression method from sklearn linear_model library\n",
        "from sklearn.linear_model import LinearRegression"
      ],
      "execution_count": 396,
      "outputs": []
    },
    {
      "cell_type": "code",
      "metadata": {
        "id": "WVF1OwvkP56n",
        "colab_type": "code",
        "colab": {
          "base_uri": "https://localhost:8080/"
        },
        "outputId": "0dafcb9f-464d-4049-b3c6-89a7fa12c7a3"
      },
      "source": [
        "df1.shape"
      ],
      "execution_count": 398,
      "outputs": [
        {
          "output_type": "execute_result",
          "data": {
            "text/plain": [
              "(34520, 13)"
            ]
          },
          "metadata": {
            "tags": []
          },
          "execution_count": 398
        }
      ]
    },
    {
      "cell_type": "code",
      "metadata": {
        "id": "dMYyLlV0cKDF",
        "colab_type": "code",
        "colab": {
          "base_uri": "https://localhost:8080/",
          "height": 408
        },
        "outputId": "9328eb3a-abf6-442d-dcbd-649e465a9cdd"
      },
      "source": [
        "df1.dtypes"
      ],
      "execution_count": 284,
      "outputs": [
        {
          "output_type": "execute_result",
          "data": {
            "text/plain": [
              "rank                       float64\n",
              "total_points               float64\n",
              "previous_points            float64\n",
              "rank_change                float64\n",
              "cur_year_avg               float64\n",
              "cur_year_avg_weighted      float64\n",
              "last_year_avg              float64\n",
              "last_year_avg_weighted     float64\n",
              "two_year_ago_avg           float64\n",
              "two_year_ago_weighted      float64\n",
              "three_year_ago_avg         float64\n",
              "three_year_ago_weighted    float64\n",
              "confederation               object\n",
              "date                        object\n",
              "home_team                   object\n",
              "away_team                   object\n",
              "home_score                 float64\n",
              "away_score                 float64\n",
              "tournament                  object\n",
              "city                        object\n",
              "country                     object\n",
              "neutral                     object\n",
              "dtype: object"
            ]
          },
          "metadata": {
            "tags": []
          },
          "execution_count": 284
        }
      ]
    },
    {
      "cell_type": "code",
      "metadata": {
        "id": "XBlI6OkPhIEy",
        "colab_type": "code",
        "colab": {
          "base_uri": "https://localhost:8080/",
          "height": 222
        },
        "outputId": "a5dc2ca0-1c67-409a-9ff4-d9116e4c77ce"
      },
      "source": [
        "df5 = df1\n",
        "df5.head()"
      ],
      "execution_count": 301,
      "outputs": [
        {
          "output_type": "execute_result",
          "data": {
            "text/html": [
              "<div>\n",
              "<style scoped>\n",
              "    .dataframe tbody tr th:only-of-type {\n",
              "        vertical-align: middle;\n",
              "    }\n",
              "\n",
              "    .dataframe tbody tr th {\n",
              "        vertical-align: top;\n",
              "    }\n",
              "\n",
              "    .dataframe thead th {\n",
              "        text-align: right;\n",
              "    }\n",
              "</style>\n",
              "<table border=\"1\" class=\"dataframe\">\n",
              "  <thead>\n",
              "    <tr style=\"text-align: right;\">\n",
              "      <th></th>\n",
              "      <th>rank</th>\n",
              "      <th>total_points</th>\n",
              "      <th>previous_points</th>\n",
              "      <th>rank_change</th>\n",
              "      <th>cur_year_avg</th>\n",
              "      <th>cur_year_avg_weighted</th>\n",
              "      <th>last_year_avg</th>\n",
              "      <th>last_year_avg_weighted</th>\n",
              "      <th>two_year_ago_avg</th>\n",
              "      <th>two_year_ago_weighted</th>\n",
              "      <th>three_year_ago_avg</th>\n",
              "      <th>three_year_ago_weighted</th>\n",
              "      <th>confederation</th>\n",
              "      <th>date</th>\n",
              "      <th>home_team</th>\n",
              "      <th>away_team</th>\n",
              "      <th>home_score</th>\n",
              "      <th>away_score</th>\n",
              "      <th>tournament</th>\n",
              "      <th>city</th>\n",
              "      <th>country</th>\n",
              "      <th>neutral</th>\n",
              "    </tr>\n",
              "  </thead>\n",
              "  <tbody>\n",
              "    <tr>\n",
              "      <th>0</th>\n",
              "      <td>1.0</td>\n",
              "      <td>0.0</td>\n",
              "      <td>57.0</td>\n",
              "      <td>0.0</td>\n",
              "      <td>0.0</td>\n",
              "      <td>0.0</td>\n",
              "      <td>0.0</td>\n",
              "      <td>0.0</td>\n",
              "      <td>0.0</td>\n",
              "      <td>0.0</td>\n",
              "      <td>0.0</td>\n",
              "      <td>0.0</td>\n",
              "      <td>UEFA</td>\n",
              "      <td>0</td>\n",
              "      <td>0</td>\n",
              "      <td>0</td>\n",
              "      <td>0.0</td>\n",
              "      <td>0.0</td>\n",
              "      <td>0</td>\n",
              "      <td>0</td>\n",
              "      <td>0</td>\n",
              "      <td>0</td>\n",
              "    </tr>\n",
              "    <tr>\n",
              "      <th>1</th>\n",
              "      <td>2.0</td>\n",
              "      <td>0.0</td>\n",
              "      <td>57.0</td>\n",
              "      <td>0.0</td>\n",
              "      <td>0.0</td>\n",
              "      <td>0.0</td>\n",
              "      <td>0.0</td>\n",
              "      <td>0.0</td>\n",
              "      <td>0.0</td>\n",
              "      <td>0.0</td>\n",
              "      <td>0.0</td>\n",
              "      <td>0.0</td>\n",
              "      <td>UEFA</td>\n",
              "      <td>0</td>\n",
              "      <td>0</td>\n",
              "      <td>0</td>\n",
              "      <td>0.0</td>\n",
              "      <td>0.0</td>\n",
              "      <td>0</td>\n",
              "      <td>0</td>\n",
              "      <td>0</td>\n",
              "      <td>0</td>\n",
              "    </tr>\n",
              "    <tr>\n",
              "      <th>3</th>\n",
              "      <td>4.0</td>\n",
              "      <td>0.0</td>\n",
              "      <td>55.0</td>\n",
              "      <td>0.0</td>\n",
              "      <td>0.0</td>\n",
              "      <td>0.0</td>\n",
              "      <td>0.0</td>\n",
              "      <td>0.0</td>\n",
              "      <td>0.0</td>\n",
              "      <td>0.0</td>\n",
              "      <td>0.0</td>\n",
              "      <td>0.0</td>\n",
              "      <td>UEFA</td>\n",
              "      <td>0</td>\n",
              "      <td>0</td>\n",
              "      <td>0</td>\n",
              "      <td>0.0</td>\n",
              "      <td>0.0</td>\n",
              "      <td>0</td>\n",
              "      <td>0</td>\n",
              "      <td>0</td>\n",
              "      <td>0</td>\n",
              "    </tr>\n",
              "    <tr>\n",
              "      <th>5</th>\n",
              "      <td>6.0</td>\n",
              "      <td>0.0</td>\n",
              "      <td>54.0</td>\n",
              "      <td>0.0</td>\n",
              "      <td>0.0</td>\n",
              "      <td>0.0</td>\n",
              "      <td>0.0</td>\n",
              "      <td>0.0</td>\n",
              "      <td>0.0</td>\n",
              "      <td>0.0</td>\n",
              "      <td>0.0</td>\n",
              "      <td>0.0</td>\n",
              "      <td>UEFA</td>\n",
              "      <td>0</td>\n",
              "      <td>0</td>\n",
              "      <td>0</td>\n",
              "      <td>0.0</td>\n",
              "      <td>0.0</td>\n",
              "      <td>0</td>\n",
              "      <td>0</td>\n",
              "      <td>0</td>\n",
              "      <td>0</td>\n",
              "    </tr>\n",
              "    <tr>\n",
              "      <th>19</th>\n",
              "      <td>20.0</td>\n",
              "      <td>0.0</td>\n",
              "      <td>45.0</td>\n",
              "      <td>0.0</td>\n",
              "      <td>0.0</td>\n",
              "      <td>0.0</td>\n",
              "      <td>0.0</td>\n",
              "      <td>0.0</td>\n",
              "      <td>0.0</td>\n",
              "      <td>0.0</td>\n",
              "      <td>0.0</td>\n",
              "      <td>0.0</td>\n",
              "      <td>UEFA</td>\n",
              "      <td>0</td>\n",
              "      <td>0</td>\n",
              "      <td>0</td>\n",
              "      <td>0.0</td>\n",
              "      <td>0.0</td>\n",
              "      <td>0</td>\n",
              "      <td>0</td>\n",
              "      <td>0</td>\n",
              "      <td>0</td>\n",
              "    </tr>\n",
              "  </tbody>\n",
              "</table>\n",
              "</div>"
            ],
            "text/plain": [
              "    rank  total_points  previous_points  ...  city  country  neutral\n",
              "0    1.0           0.0             57.0  ...     0        0        0\n",
              "1    2.0           0.0             57.0  ...     0        0        0\n",
              "3    4.0           0.0             55.0  ...     0        0        0\n",
              "5    6.0           0.0             54.0  ...     0        0        0\n",
              "19  20.0           0.0             45.0  ...     0        0        0\n",
              "\n",
              "[5 rows x 22 columns]"
            ]
          },
          "metadata": {
            "tags": []
          },
          "execution_count": 301
        }
      ]
    },
    {
      "cell_type": "code",
      "metadata": {
        "id": "WmNxNEyThh5C",
        "colab_type": "code",
        "colab": {
          "base_uri": "https://localhost:8080/",
          "height": 138
        },
        "outputId": "f27893db-670d-476f-dc81-6bb708631dee"
      },
      "source": [
        "df5.columns"
      ],
      "execution_count": 286,
      "outputs": [
        {
          "output_type": "execute_result",
          "data": {
            "text/plain": [
              "Index(['rank', 'total_points', 'previous_points', 'rank_change',\n",
              "       'cur_year_avg', 'cur_year_avg_weighted', 'last_year_avg',\n",
              "       'last_year_avg_weighted', 'two_year_ago_avg', 'two_year_ago_weighted',\n",
              "       'three_year_ago_avg', 'three_year_ago_weighted', 'confederation',\n",
              "       'date', 'home_team', 'away_team', 'home_score', 'away_score',\n",
              "       'tournament', 'city', 'country', 'neutral'],\n",
              "      dtype='object')"
            ]
          },
          "metadata": {
            "tags": []
          },
          "execution_count": 286
        }
      ]
    },
    {
      "cell_type": "code",
      "metadata": {
        "id": "53Ybi01tha07",
        "colab_type": "code",
        "colab": {}
      },
      "source": [
        "# droppig unnecessary columns\n",
        "to_drop = ['total_points', 'previous_points', 'rank_change',\n",
        "       'cur_year_avg', 'cur_year_avg_weighted', 'last_year_avg',\n",
        "       'last_year_avg_weighted', 'two_year_ago_avg', 'two_year_ago_weighted',\n",
        "       'three_year_ago_avg', 'three_year_ago_weighted', 'confederation', \n",
        "       'tournament', 'city', 'country', 'neutral',]\n",
        "df5.drop(to_drop, axis=1, inplace=True)"
      ],
      "execution_count": 302,
      "outputs": []
    },
    {
      "cell_type": "code",
      "metadata": {
        "id": "E6XSrjY1h40J",
        "colab_type": "code",
        "colab": {
          "base_uri": "https://localhost:8080/",
          "height": 398
        },
        "outputId": "d9aaa967-a086-4d91-d1fd-6a14ff81b336"
      },
      "source": [
        "print(df5)\n",
        "\n",
        "#Get the 2 and the last column from the dataset \n",
        "X = df5.iloc[:, 1:2].values\n",
        "y = df5.iloc[:, 2].values\n",
        "print(X)\n",
        "print(y)"
      ],
      "execution_count": 288,
      "outputs": [
        {
          "output_type": "stream",
          "text": [
            "       rank  home_score  away_score\n",
            "0       1.0         0.0         0.0\n",
            "1       2.0         0.0         0.0\n",
            "3       4.0         0.0         0.0\n",
            "5       6.0         0.0         0.0\n",
            "19     20.0         0.0         0.0\n",
            "...     ...         ...         ...\n",
            "40829   0.0         1.0         1.0\n",
            "40830   0.0         0.0         1.0\n",
            "40836   0.0         0.0         1.0\n",
            "40837   0.0         0.0         1.0\n",
            "40838   0.0         1.0         1.0\n",
            "\n",
            "[34005 rows x 3 columns]\n",
            "[[0.]\n",
            " [0.]\n",
            " [0.]\n",
            " ...\n",
            " [0.]\n",
            " [0.]\n",
            " [1.]]\n",
            "[0. 0. 0. ... 1. 1. 1.]\n"
          ],
          "name": "stdout"
        }
      ]
    },
    {
      "cell_type": "code",
      "metadata": {
        "id": "ryQ-Oqb-jgVm",
        "colab_type": "code",
        "colab": {}
      },
      "source": [
        "# Split the dataset into train and test sets\n",
        "from sklearn.model_selection import train_test_split\n",
        "X_train,X_test,y_train,y_test=train_test_split(X,y,test_size=0.2,random_state=0)"
      ],
      "execution_count": 289,
      "outputs": []
    },
    {
      "cell_type": "code",
      "metadata": {
        "id": "dCqOXDSTlA3h",
        "colab_type": "code",
        "colab": {
          "base_uri": "https://localhost:8080/",
          "height": 34
        },
        "outputId": "077df25c-8859-467e-9fac-283270e9443a"
      },
      "source": [
        "# Fit Linear Regression model to the dataset(this is optional. We are doing this for the sole purpose of comparing the linear regression model to the polynomial regression model)\n",
        "from sklearn.linear_model import LinearRegression\n",
        "lin_reg = LinearRegression()\n",
        "lin_reg.fit(X, y)"
      ],
      "execution_count": 290,
      "outputs": [
        {
          "output_type": "execute_result",
          "data": {
            "text/plain": [
              "LinearRegression(copy_X=True, fit_intercept=True, n_jobs=None, normalize=False)"
            ]
          },
          "metadata": {
            "tags": []
          },
          "execution_count": 290
        }
      ]
    },
    {
      "cell_type": "code",
      "metadata": {
        "id": "PNTBZEnXlM1I",
        "colab_type": "code",
        "colab": {
          "base_uri": "https://localhost:8080/",
          "height": 34
        },
        "outputId": "1527a737-90cb-4c72-9fd8-a078020bc6f5"
      },
      "source": [
        "from sklearn.preprocessing import PolynomialFeatures\n",
        "poly_reg2=PolynomialFeatures(degree=2)\n",
        "X_poly=poly_reg2.fit_transform(X)\n",
        "lin_reg_2=LinearRegression()\n",
        "lin_reg_2.fit(X_poly,y)"
      ],
      "execution_count": 291,
      "outputs": [
        {
          "output_type": "execute_result",
          "data": {
            "text/plain": [
              "LinearRegression(copy_X=True, fit_intercept=True, n_jobs=None, normalize=False)"
            ]
          },
          "metadata": {
            "tags": []
          },
          "execution_count": 291
        }
      ]
    },
    {
      "cell_type": "code",
      "metadata": {
        "id": "DQs9uuYQlSqV",
        "colab_type": "code",
        "colab": {
          "base_uri": "https://localhost:8080/",
          "height": 34
        },
        "outputId": "377e6a60-e07a-4773-ab9e-b3e17f4d5192"
      },
      "source": [
        "poly_reg3=PolynomialFeatures(degree=3)\n",
        "X_poly3=poly_reg3.fit_transform(X)\n",
        "lin_reg_3=LinearRegression()\n",
        "lin_reg_3.fit(X_poly3,y)"
      ],
      "execution_count": 292,
      "outputs": [
        {
          "output_type": "execute_result",
          "data": {
            "text/plain": [
              "LinearRegression(copy_X=True, fit_intercept=True, n_jobs=None, normalize=False)"
            ]
          },
          "metadata": {
            "tags": []
          },
          "execution_count": 292
        }
      ]
    },
    {
      "cell_type": "code",
      "metadata": {
        "id": "U1NUOtwrlZx4",
        "colab_type": "code",
        "colab": {
          "base_uri": "https://localhost:8080/",
          "height": 301
        },
        "outputId": "ea2301ae-10ca-47a1-8a74-50c1cf7f701e"
      },
      "source": [
        "# Visualize the Linear Regression results\n",
        "plt.scatter(X, y, color='blue')\n",
        "plt.plot(X, lin_reg.predict(X), color='red')\n",
        "plt.title('home score vs away_score')\n",
        "plt.xlabel('away_score')\n",
        "plt.ylabel('home_score')\n",
        "plt.show()\n"
      ],
      "execution_count": 293,
      "outputs": [
        {
          "output_type": "display_data",
          "data": {
            "image/png": "[encoded data removed]",
            "text/plain": [
              "<Figure size 432x288 with 1 Axes>"
            ]
          },
          "metadata": {
            "tags": []
          }
        }
      ]
    },
    {
      "cell_type": "code",
      "metadata": {
        "id": "rS3Z-1qFlsNg",
        "colab_type": "code",
        "colab": {
          "base_uri": "https://localhost:8080/",
          "height": 301
        },
        "outputId": "1fc5def3-8874-4c04-dce2-e61f44b36cc2"
      },
      "source": [
        "# Visualize the polynomial Regression results\n",
        "plt.scatter(X,y,color='red')\n",
        "plt.plot(X,lin_reg_2.predict(poly_reg2.fit_transform(X)),color='blue')\n",
        "plt.plot(X,lin_reg_3.predict(poly_reg3.fit_transform(X)),color='green')\n",
        "plt.title('home score vs away_score')\n",
        "plt.xlabel('away_score')\n",
        "plt.ylabel('home_score')\n",
        "plt.show()"
      ],
      "execution_count": 294,
      "outputs": [
        {
          "output_type": "display_data",
          "data": {
            "image/png": "[encoded data removed]",
            "text/plain": [
              "<Figure size 432x288 with 1 Axes>"
            ]
          },
          "metadata": {
            "tags": []
          }
        }
      ]
    },
    {
      "cell_type": "code",
      "metadata": {
        "id": "si3ScC_TmE47",
        "colab_type": "code",
        "colab": {
          "base_uri": "https://localhost:8080/",
          "height": 301
        },
        "outputId": "de1c455a-3f9b-484e-ec83-275f2810baa8"
      },
      "source": [
        "X_grid=np.arange(min(X),max(X),0.1) # This will give us a vector.We will have to convert this into a matrix \n",
        "X_grid=X_grid.reshape((len(X_grid),1))\n",
        "plt.scatter(X,y,color='red')\n",
        "plt.plot(X_grid,lin_reg_3.predict(poly_reg3.fit_transform(X_grid)),color='blue')\n",
        "#plt.plot(X,lin_reg_3.predict(poly_reg3.fit_transform(X)),color='green')\n",
        "plt.title('home score vs away_score')\n",
        "plt.xlabel('away_score')\n",
        "plt.ylabel('home_score')\n",
        "plt.show()"
      ],
      "execution_count": 295,
      "outputs": [
        {
          "output_type": "display_data",
          "data": {
            "image/png": "[encoded data removed]",
            "text/plain": [
              "<Figure size 432x288 with 1 Axes>"
            ]
          },
          "metadata": {
            "tags": []
          }
        }
      ]
    },
    {
      "cell_type": "code",
      "metadata": {
        "id": "6-7x59Xsb9mr",
        "colab_type": "code",
        "colab": {}
      },
      "source": [
        "# converting datatypes"
      ],
      "execution_count": 296,
      "outputs": []
    },
    {
      "cell_type": "code",
      "metadata": {
        "id": "kmzhBb_uWlM3",
        "colab_type": "code",
        "colab": {}
      },
      "source": [
        "# Model 1: Predict how many goals the home team scores."
      ],
      "execution_count": 297,
      "outputs": []
    },
    {
      "cell_type": "code",
      "metadata": {
        "id": "p-IQOdEDWpDB",
        "colab_type": "code",
        "colab": {}
      },
      "source": [
        "# Approach 1: Polynomial approach\n",
        "\n",
        "#What to train given:\n",
        "\n",
        "#Rank of home team\n",
        "\n",
        "#Rank of away team\n",
        "\n",
        "#Tournament type\n",
        "\n",
        "#Model 1: Predict how many goals the home team scores.\n",
        "\n",
        "#Model 2: Predict how many goals the away team scores."
      ],
      "execution_count": 298,
      "outputs": []
    },
    {
      "cell_type": "code",
      "metadata": {
        "id": "nhGp1divWySG",
        "colab_type": "code",
        "colab": {}
      },
      "source": [
        "#Model 2: Predict how many goals the away team scores."
      ],
      "execution_count": 299,
      "outputs": []
    },
    {
      "cell_type": "code",
      "metadata": {
        "id": "nA-k2O87VJNI",
        "colab_type": "code",
        "colab": {}
      },
      "source": [
        ""
      ],
      "execution_count": 299,
      "outputs": []
    },
    {
      "cell_type": "code",
      "metadata": {
        "id": "XcWsIcnYVJCL",
        "colab_type": "code",
        "colab": {}
      },
      "source": [
        ""
      ],
      "execution_count": 299,
      "outputs": []
    },
    {
      "cell_type": "markdown",
      "metadata": {
        "id": "JB9rRQ6IUm37",
        "colab_type": "text"
      },
      "source": [
        "\n",
        "> Indented block\n",
        "\n",
        "> Indented block\n",
        "\n",
        "Approach 1: Polynomial approach\n",
        "\n",
        "What to train given:\n",
        "\n",
        "Rank of home team\n",
        "\n",
        "Rank of away team\n",
        "\n",
        "Tournament type\n",
        "\n",
        "Model 1: Predict how many goals the home team scores.\n",
        "\n",
        "Model 2: Predict how many goals the away team scores."
      ]
    },
    {
      "cell_type": "markdown",
      "metadata": {
        "id": "PQn4yCklNWtM",
        "colab_type": "text"
      },
      "source": [
        "\n",
        "\n",
        "> Indented block\n",
        "\n",
        "> Indented block\n",
        "\n",
        "\n",
        "\n",
        "\n",
        "Polynomial Regression Analysis\n",
        "\n",
        "> Indented block\n",
        "\n",
        "> Indented block\n",
        "\n",
        "\n",
        "\n",
        "\n",
        "5.0 Pts\n",
        "\n",
        "**Excellent** \n",
        "\n",
        "The students exhaustively perform \n",
        "\n",
        "polynomial regression by \n",
        "\n",
        "performing feature engineering where necessary, \n",
        "\n",
        "checking multicollinearity, \n",
        "\n",
        "building an optimal model, \n",
        "\n",
        "cross validate the model, \n",
        "\n",
        "compute the RMSE of the model and \n",
        "\n",
        "finally assess the heteroscedasticity."
      ]
    },
    {
      "cell_type": "markdown",
      "metadata": {
        "id": "q3_KY1_JNP7b",
        "colab_type": "text"
      },
      "source": [
        "# **Logistics Regression Analysis**"
      ]
    },
    {
      "cell_type": "code",
      "metadata": {
        "id": "SJxo2UzbNUlA",
        "colab_type": "code",
        "colab": {}
      },
      "source": [
        ""
      ],
      "execution_count": null,
      "outputs": []
    },
    {
      "cell_type": "markdown",
      "metadata": {
        "id": "qJhSjKkzNjdf",
        "colab_type": "text"
      },
      "source": [
        "Logistic Regression\n",
        "5.0 Pts\n",
        "\n",
        "**Excellent**\n",
        "\n",
        "The students exhaustively perform Logistic regression by \n",
        "\n",
        "performing feature engineering where necessary, \n",
        "\n",
        "Training an optimal classifier, \n",
        "\n",
        "Interpret the result obtained and \n",
        "\n",
        "make a suitable prediction. \n",
        "\n",
        "The students should also challenge their solution by \n",
        "\n",
        "providing insights on how you can make improvements."
      ]
    },
    {
      "cell_type": "markdown",
      "metadata": {
        "id": "BK5CV9kBKw77",
        "colab_type": "text"
      },
      "source": [
        "# **Discriminant Analysis**"
      ]
    },
    {
      "cell_type": "code",
      "metadata": {
        "id": "syW7KVdZKwhY",
        "colab_type": "code",
        "colab": {}
      },
      "source": [
        "from sklearn.model_selection import StratifiedKFold\n",
        "from sklearn.metrics import roc_auc_score\n",
        "from sklearn.preprocessing import StandardScaler\n",
        "from sklearn.feature_selection import VarianceThreshold\n",
        "\n",
        "from sklearn.discriminant_analysis import QuadraticDiscriminantAnalysis\n",
        "\n",
        "from tqdm import tqdm_notebook\n",
        "\n",
        "import warnings\n",
        "warnings.filterwarnings('ignore')"
      ],
      "execution_count": 191,
      "outputs": []
    },
    {
      "cell_type": "code",
      "metadata": {
        "id": "Yc17b33CK4uY",
        "colab_type": "code",
        "colab": {
          "base_uri": "https://localhost:8080/",
          "height": 34
        },
        "outputId": "52c9854b-427a-4393-e83a-ea75200b8837"
      },
      "source": [
        "df4 = df1.fillna(0)\n",
        "df4.shape"
      ],
      "execution_count": 188,
      "outputs": [
        {
          "output_type": "execute_result",
          "data": {
            "text/plain": [
              "(34005, 13)"
            ]
          },
          "metadata": {
            "tags": []
          },
          "execution_count": 188
        }
      ]
    },
    {
      "cell_type": "code",
      "metadata": {
        "id": "O0uQh5Z4L2C7",
        "colab_type": "code",
        "colab": {}
      },
      "source": [
        "X = df4.iloc[:, 0:4].values\n",
        "y = df4.iloc[:2, ].values"
      ],
      "execution_count": 192,
      "outputs": []
    },
    {
      "cell_type": "code",
      "metadata": {
        "id": "3oLHwGsnL5FE",
        "colab_type": "code",
        "colab": {}
      },
      "source": [
        "\n",
        "from sklearn.model_selection import train_test_split\n",
        "X_train, X_test, y_train, y_test = train_test_split(X, y, test_size=0.2, random_state=0)"
      ],
      "execution_count": null,
      "outputs": []
    },
    {
      "cell_type": "code",
      "metadata": {
        "id": "ue3_Sun3MBtB",
        "colab_type": "code",
        "colab": {}
      },
      "source": [
        "from sklearn.preprocessing import StandardScaler\n",
        "sc = StandardScaler()\n",
        "X_train = sc.fit_transform(X_train)\n",
        "X_test = sc.transform(X_test)"
      ],
      "execution_count": null,
      "outputs": []
    },
    {
      "cell_type": "code",
      "metadata": {
        "id": "yA8PKHFEMEUH",
        "colab_type": "code",
        "colab": {}
      },
      "source": [
        "from sklearn.discriminant_analysis import LinearDiscriminantAnalysis as LDA\n",
        "lda = LDA(n_components=1)\n",
        "X_train = lda.fit_transform(X_train, y)\n",
        "X_test = lda.transform(X_test)"
      ],
      "execution_count": null,
      "outputs": []
    },
    {
      "cell_type": "code",
      "metadata": {
        "id": "3gUYH5PDMG2p",
        "colab_type": "code",
        "colab": {}
      },
      "source": [
        "from sklearn.ensemble import RandomForestClassifier\n",
        "\n",
        "classifier = RandomForestClassifier(max_depth=2, random_state=0)\n",
        "classifier.fit(X_train, y_train)\n",
        "y_pred = classifier.predict(X_test)"
      ],
      "execution_count": null,
      "outputs": []
    },
    {
      "cell_type": "code",
      "metadata": {
        "id": "XVYk4r4NMKDW",
        "colab_type": "code",
        "colab": {}
      },
      "source": [
        "from sklearn.metrics import confusion_matrix\n",
        "from sklearn.metrics import accuracy_score\n",
        "\n",
        "cm = confusion_matrix(y_test, y_pred)\n",
        "print(cm)\n",
        "print('Accuracy' + str(accuracy_score(y_test, y_pred)))"
      ],
      "execution_count": null,
      "outputs": []
    },
    {
      "cell_type": "markdown",
      "metadata": {
        "id": "1WEJSGRWz5eg",
        "colab_type": "text"
      },
      "source": [
        "# **Expected flow for the assessment:**\n",
        "\n",
        "Perform your EDA\n",
        "\n",
        "Perform any necessary feature engineering \n",
        "\n",
        "Check of multicollinearity\n",
        "\n",
        "Start building the model\n",
        "\n",
        "Cross-validate the model\n",
        "\n",
        "Compute RMSE\n",
        "\n",
        "Create residual plots for your models, \n",
        "\n",
        "and assess their heteroscedasticity using Bartlett’s test\n",
        "\n",
        "Perform appropriate regressions on the data including your justification\n",
        "\n",
        "Challenge your solution by providing insights on how you can make improvements."
      ]
    },
    {
      "cell_type": "code",
      "metadata": {
        "id": "TdaFZtknz2a6",
        "colab_type": "code",
        "colab": {}
      },
      "source": [
        ""
      ],
      "execution_count": null,
      "outputs": []
    }
  ]
}